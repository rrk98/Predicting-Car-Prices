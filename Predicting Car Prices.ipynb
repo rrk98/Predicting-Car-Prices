{
 "cells": [
  {
   "cell_type": "markdown",
   "metadata": {},
   "source": [
    "The data set we will be working with contains information on various cars. For each car we have information about the technical aspects of the vehicle such as the motor's displacement, the weight of the car, the miles per gallon, how fast the car accelerates, and more.\n",
    "\n",
    "Goal : To predict a car's market price using its attributes.\n",
    "\n",
    "More about the data set can be read [here][1], and the dataset can be downloaded from [here][2].\n",
    "\n",
    "[1]: https://archive.ics.uci.edu/ml/datasets/automobile\n",
    "[2]: https://archive.ics.uci.edu/ml/machine-learning-databases/autos/imports-85.data"
   ]
  },
  {
   "cell_type": "markdown",
   "metadata": {},
   "source": [
    "# Introduction to the dataset"
   ]
  },
  {
   "cell_type": "code",
   "execution_count": 1,
   "metadata": {},
   "outputs": [],
   "source": [
    "import numpy as np\n",
    "import pandas as pd\n",
    "import matplotlib.pyplot as plt\n",
    "from word2number import w2n\n",
    "%matplotlib inline\n",
    "\n",
    "from sklearn.neighbors import KNeighborsRegressor\n",
    "from sklearn.model_selection import KFold,cross_val_score\n",
    "from sklearn.metrics import mean_squared_error"
   ]
  },
  {
   "cell_type": "code",
   "execution_count": 2,
   "metadata": {},
   "outputs": [],
   "source": [
    "pd.options.display.max_columns = 99"
   ]
  },
  {
   "cell_type": "code",
   "execution_count": 3,
   "metadata": {},
   "outputs": [],
   "source": [
    "cars = pd.read_csv('imports-85.data')"
   ]
  },
  {
   "cell_type": "code",
   "execution_count": 4,
   "metadata": {},
   "outputs": [
    {
     "data": {
      "text/plain": [
       "Index(['3', '?', 'alfa-romero', 'gas', 'std', 'two', 'convertible', 'rwd',\n",
       "       'front', '88.60', '168.80', '64.10', '48.80', '2548', 'dohc', 'four',\n",
       "       '130', 'mpfi', '3.47', '2.68', '9.00', '111', '5000', '21', '27',\n",
       "       '13495'],\n",
       "      dtype='object')"
      ]
     },
     "execution_count": 4,
     "metadata": {},
     "output_type": "execute_result"
    }
   ],
   "source": [
    "cars.columns"
   ]
  },
  {
   "cell_type": "code",
   "execution_count": 5,
   "metadata": {
    "scrolled": true
   },
   "outputs": [
    {
     "data": {
      "text/html": [
       "<div>\n",
       "<style scoped>\n",
       "    .dataframe tbody tr th:only-of-type {\n",
       "        vertical-align: middle;\n",
       "    }\n",
       "\n",
       "    .dataframe tbody tr th {\n",
       "        vertical-align: top;\n",
       "    }\n",
       "\n",
       "    .dataframe thead th {\n",
       "        text-align: right;\n",
       "    }\n",
       "</style>\n",
       "<table border=\"1\" class=\"dataframe\">\n",
       "  <thead>\n",
       "    <tr style=\"text-align: right;\">\n",
       "      <th></th>\n",
       "      <th>3</th>\n",
       "      <th>?</th>\n",
       "      <th>alfa-romero</th>\n",
       "      <th>gas</th>\n",
       "      <th>std</th>\n",
       "      <th>two</th>\n",
       "      <th>convertible</th>\n",
       "      <th>rwd</th>\n",
       "      <th>front</th>\n",
       "      <th>88.60</th>\n",
       "      <th>168.80</th>\n",
       "      <th>64.10</th>\n",
       "      <th>48.80</th>\n",
       "      <th>2548</th>\n",
       "      <th>dohc</th>\n",
       "      <th>four</th>\n",
       "      <th>130</th>\n",
       "      <th>mpfi</th>\n",
       "      <th>3.47</th>\n",
       "      <th>2.68</th>\n",
       "      <th>9.00</th>\n",
       "      <th>111</th>\n",
       "      <th>5000</th>\n",
       "      <th>21</th>\n",
       "      <th>27</th>\n",
       "      <th>13495</th>\n",
       "    </tr>\n",
       "  </thead>\n",
       "  <tbody>\n",
       "    <tr>\n",
       "      <th>0</th>\n",
       "      <td>3</td>\n",
       "      <td>?</td>\n",
       "      <td>alfa-romero</td>\n",
       "      <td>gas</td>\n",
       "      <td>std</td>\n",
       "      <td>two</td>\n",
       "      <td>convertible</td>\n",
       "      <td>rwd</td>\n",
       "      <td>front</td>\n",
       "      <td>88.6</td>\n",
       "      <td>168.8</td>\n",
       "      <td>64.1</td>\n",
       "      <td>48.8</td>\n",
       "      <td>2548</td>\n",
       "      <td>dohc</td>\n",
       "      <td>four</td>\n",
       "      <td>130</td>\n",
       "      <td>mpfi</td>\n",
       "      <td>3.47</td>\n",
       "      <td>2.68</td>\n",
       "      <td>9.0</td>\n",
       "      <td>111</td>\n",
       "      <td>5000</td>\n",
       "      <td>21</td>\n",
       "      <td>27</td>\n",
       "      <td>16500</td>\n",
       "    </tr>\n",
       "    <tr>\n",
       "      <th>1</th>\n",
       "      <td>1</td>\n",
       "      <td>?</td>\n",
       "      <td>alfa-romero</td>\n",
       "      <td>gas</td>\n",
       "      <td>std</td>\n",
       "      <td>two</td>\n",
       "      <td>hatchback</td>\n",
       "      <td>rwd</td>\n",
       "      <td>front</td>\n",
       "      <td>94.5</td>\n",
       "      <td>171.2</td>\n",
       "      <td>65.5</td>\n",
       "      <td>52.4</td>\n",
       "      <td>2823</td>\n",
       "      <td>ohcv</td>\n",
       "      <td>six</td>\n",
       "      <td>152</td>\n",
       "      <td>mpfi</td>\n",
       "      <td>2.68</td>\n",
       "      <td>3.47</td>\n",
       "      <td>9.0</td>\n",
       "      <td>154</td>\n",
       "      <td>5000</td>\n",
       "      <td>19</td>\n",
       "      <td>26</td>\n",
       "      <td>16500</td>\n",
       "    </tr>\n",
       "    <tr>\n",
       "      <th>2</th>\n",
       "      <td>2</td>\n",
       "      <td>164</td>\n",
       "      <td>audi</td>\n",
       "      <td>gas</td>\n",
       "      <td>std</td>\n",
       "      <td>four</td>\n",
       "      <td>sedan</td>\n",
       "      <td>fwd</td>\n",
       "      <td>front</td>\n",
       "      <td>99.8</td>\n",
       "      <td>176.6</td>\n",
       "      <td>66.2</td>\n",
       "      <td>54.3</td>\n",
       "      <td>2337</td>\n",
       "      <td>ohc</td>\n",
       "      <td>four</td>\n",
       "      <td>109</td>\n",
       "      <td>mpfi</td>\n",
       "      <td>3.19</td>\n",
       "      <td>3.40</td>\n",
       "      <td>10.0</td>\n",
       "      <td>102</td>\n",
       "      <td>5500</td>\n",
       "      <td>24</td>\n",
       "      <td>30</td>\n",
       "      <td>13950</td>\n",
       "    </tr>\n",
       "    <tr>\n",
       "      <th>3</th>\n",
       "      <td>2</td>\n",
       "      <td>164</td>\n",
       "      <td>audi</td>\n",
       "      <td>gas</td>\n",
       "      <td>std</td>\n",
       "      <td>four</td>\n",
       "      <td>sedan</td>\n",
       "      <td>4wd</td>\n",
       "      <td>front</td>\n",
       "      <td>99.4</td>\n",
       "      <td>176.6</td>\n",
       "      <td>66.4</td>\n",
       "      <td>54.3</td>\n",
       "      <td>2824</td>\n",
       "      <td>ohc</td>\n",
       "      <td>five</td>\n",
       "      <td>136</td>\n",
       "      <td>mpfi</td>\n",
       "      <td>3.19</td>\n",
       "      <td>3.40</td>\n",
       "      <td>8.0</td>\n",
       "      <td>115</td>\n",
       "      <td>5500</td>\n",
       "      <td>18</td>\n",
       "      <td>22</td>\n",
       "      <td>17450</td>\n",
       "    </tr>\n",
       "    <tr>\n",
       "      <th>4</th>\n",
       "      <td>2</td>\n",
       "      <td>?</td>\n",
       "      <td>audi</td>\n",
       "      <td>gas</td>\n",
       "      <td>std</td>\n",
       "      <td>two</td>\n",
       "      <td>sedan</td>\n",
       "      <td>fwd</td>\n",
       "      <td>front</td>\n",
       "      <td>99.8</td>\n",
       "      <td>177.3</td>\n",
       "      <td>66.3</td>\n",
       "      <td>53.1</td>\n",
       "      <td>2507</td>\n",
       "      <td>ohc</td>\n",
       "      <td>five</td>\n",
       "      <td>136</td>\n",
       "      <td>mpfi</td>\n",
       "      <td>3.19</td>\n",
       "      <td>3.40</td>\n",
       "      <td>8.5</td>\n",
       "      <td>110</td>\n",
       "      <td>5500</td>\n",
       "      <td>19</td>\n",
       "      <td>25</td>\n",
       "      <td>15250</td>\n",
       "    </tr>\n",
       "    <tr>\n",
       "      <th>...</th>\n",
       "      <td>...</td>\n",
       "      <td>...</td>\n",
       "      <td>...</td>\n",
       "      <td>...</td>\n",
       "      <td>...</td>\n",
       "      <td>...</td>\n",
       "      <td>...</td>\n",
       "      <td>...</td>\n",
       "      <td>...</td>\n",
       "      <td>...</td>\n",
       "      <td>...</td>\n",
       "      <td>...</td>\n",
       "      <td>...</td>\n",
       "      <td>...</td>\n",
       "      <td>...</td>\n",
       "      <td>...</td>\n",
       "      <td>...</td>\n",
       "      <td>...</td>\n",
       "      <td>...</td>\n",
       "      <td>...</td>\n",
       "      <td>...</td>\n",
       "      <td>...</td>\n",
       "      <td>...</td>\n",
       "      <td>...</td>\n",
       "      <td>...</td>\n",
       "      <td>...</td>\n",
       "    </tr>\n",
       "    <tr>\n",
       "      <th>199</th>\n",
       "      <td>-1</td>\n",
       "      <td>95</td>\n",
       "      <td>volvo</td>\n",
       "      <td>gas</td>\n",
       "      <td>std</td>\n",
       "      <td>four</td>\n",
       "      <td>sedan</td>\n",
       "      <td>rwd</td>\n",
       "      <td>front</td>\n",
       "      <td>109.1</td>\n",
       "      <td>188.8</td>\n",
       "      <td>68.9</td>\n",
       "      <td>55.5</td>\n",
       "      <td>2952</td>\n",
       "      <td>ohc</td>\n",
       "      <td>four</td>\n",
       "      <td>141</td>\n",
       "      <td>mpfi</td>\n",
       "      <td>3.78</td>\n",
       "      <td>3.15</td>\n",
       "      <td>9.5</td>\n",
       "      <td>114</td>\n",
       "      <td>5400</td>\n",
       "      <td>23</td>\n",
       "      <td>28</td>\n",
       "      <td>16845</td>\n",
       "    </tr>\n",
       "    <tr>\n",
       "      <th>200</th>\n",
       "      <td>-1</td>\n",
       "      <td>95</td>\n",
       "      <td>volvo</td>\n",
       "      <td>gas</td>\n",
       "      <td>turbo</td>\n",
       "      <td>four</td>\n",
       "      <td>sedan</td>\n",
       "      <td>rwd</td>\n",
       "      <td>front</td>\n",
       "      <td>109.1</td>\n",
       "      <td>188.8</td>\n",
       "      <td>68.8</td>\n",
       "      <td>55.5</td>\n",
       "      <td>3049</td>\n",
       "      <td>ohc</td>\n",
       "      <td>four</td>\n",
       "      <td>141</td>\n",
       "      <td>mpfi</td>\n",
       "      <td>3.78</td>\n",
       "      <td>3.15</td>\n",
       "      <td>8.7</td>\n",
       "      <td>160</td>\n",
       "      <td>5300</td>\n",
       "      <td>19</td>\n",
       "      <td>25</td>\n",
       "      <td>19045</td>\n",
       "    </tr>\n",
       "    <tr>\n",
       "      <th>201</th>\n",
       "      <td>-1</td>\n",
       "      <td>95</td>\n",
       "      <td>volvo</td>\n",
       "      <td>gas</td>\n",
       "      <td>std</td>\n",
       "      <td>four</td>\n",
       "      <td>sedan</td>\n",
       "      <td>rwd</td>\n",
       "      <td>front</td>\n",
       "      <td>109.1</td>\n",
       "      <td>188.8</td>\n",
       "      <td>68.9</td>\n",
       "      <td>55.5</td>\n",
       "      <td>3012</td>\n",
       "      <td>ohcv</td>\n",
       "      <td>six</td>\n",
       "      <td>173</td>\n",
       "      <td>mpfi</td>\n",
       "      <td>3.58</td>\n",
       "      <td>2.87</td>\n",
       "      <td>8.8</td>\n",
       "      <td>134</td>\n",
       "      <td>5500</td>\n",
       "      <td>18</td>\n",
       "      <td>23</td>\n",
       "      <td>21485</td>\n",
       "    </tr>\n",
       "    <tr>\n",
       "      <th>202</th>\n",
       "      <td>-1</td>\n",
       "      <td>95</td>\n",
       "      <td>volvo</td>\n",
       "      <td>diesel</td>\n",
       "      <td>turbo</td>\n",
       "      <td>four</td>\n",
       "      <td>sedan</td>\n",
       "      <td>rwd</td>\n",
       "      <td>front</td>\n",
       "      <td>109.1</td>\n",
       "      <td>188.8</td>\n",
       "      <td>68.9</td>\n",
       "      <td>55.5</td>\n",
       "      <td>3217</td>\n",
       "      <td>ohc</td>\n",
       "      <td>six</td>\n",
       "      <td>145</td>\n",
       "      <td>idi</td>\n",
       "      <td>3.01</td>\n",
       "      <td>3.40</td>\n",
       "      <td>23.0</td>\n",
       "      <td>106</td>\n",
       "      <td>4800</td>\n",
       "      <td>26</td>\n",
       "      <td>27</td>\n",
       "      <td>22470</td>\n",
       "    </tr>\n",
       "    <tr>\n",
       "      <th>203</th>\n",
       "      <td>-1</td>\n",
       "      <td>95</td>\n",
       "      <td>volvo</td>\n",
       "      <td>gas</td>\n",
       "      <td>turbo</td>\n",
       "      <td>four</td>\n",
       "      <td>sedan</td>\n",
       "      <td>rwd</td>\n",
       "      <td>front</td>\n",
       "      <td>109.1</td>\n",
       "      <td>188.8</td>\n",
       "      <td>68.9</td>\n",
       "      <td>55.5</td>\n",
       "      <td>3062</td>\n",
       "      <td>ohc</td>\n",
       "      <td>four</td>\n",
       "      <td>141</td>\n",
       "      <td>mpfi</td>\n",
       "      <td>3.78</td>\n",
       "      <td>3.15</td>\n",
       "      <td>9.5</td>\n",
       "      <td>114</td>\n",
       "      <td>5400</td>\n",
       "      <td>19</td>\n",
       "      <td>25</td>\n",
       "      <td>22625</td>\n",
       "    </tr>\n",
       "  </tbody>\n",
       "</table>\n",
       "<p>204 rows × 26 columns</p>\n",
       "</div>"
      ],
      "text/plain": [
       "     3    ?  alfa-romero     gas    std   two  convertible  rwd  front  88.60  \\\n",
       "0    3    ?  alfa-romero     gas    std   two  convertible  rwd  front   88.6   \n",
       "1    1    ?  alfa-romero     gas    std   two    hatchback  rwd  front   94.5   \n",
       "2    2  164         audi     gas    std  four        sedan  fwd  front   99.8   \n",
       "3    2  164         audi     gas    std  four        sedan  4wd  front   99.4   \n",
       "4    2    ?         audi     gas    std   two        sedan  fwd  front   99.8   \n",
       "..  ..  ...          ...     ...    ...   ...          ...  ...    ...    ...   \n",
       "199 -1   95        volvo     gas    std  four        sedan  rwd  front  109.1   \n",
       "200 -1   95        volvo     gas  turbo  four        sedan  rwd  front  109.1   \n",
       "201 -1   95        volvo     gas    std  four        sedan  rwd  front  109.1   \n",
       "202 -1   95        volvo  diesel  turbo  four        sedan  rwd  front  109.1   \n",
       "203 -1   95        volvo     gas  turbo  four        sedan  rwd  front  109.1   \n",
       "\n",
       "     168.80  64.10  48.80  2548  dohc  four  130  mpfi  3.47  2.68  9.00  111  \\\n",
       "0     168.8   64.1   48.8  2548  dohc  four  130  mpfi  3.47  2.68   9.0  111   \n",
       "1     171.2   65.5   52.4  2823  ohcv   six  152  mpfi  2.68  3.47   9.0  154   \n",
       "2     176.6   66.2   54.3  2337   ohc  four  109  mpfi  3.19  3.40  10.0  102   \n",
       "3     176.6   66.4   54.3  2824   ohc  five  136  mpfi  3.19  3.40   8.0  115   \n",
       "4     177.3   66.3   53.1  2507   ohc  five  136  mpfi  3.19  3.40   8.5  110   \n",
       "..      ...    ...    ...   ...   ...   ...  ...   ...   ...   ...   ...  ...   \n",
       "199   188.8   68.9   55.5  2952   ohc  four  141  mpfi  3.78  3.15   9.5  114   \n",
       "200   188.8   68.8   55.5  3049   ohc  four  141  mpfi  3.78  3.15   8.7  160   \n",
       "201   188.8   68.9   55.5  3012  ohcv   six  173  mpfi  3.58  2.87   8.8  134   \n",
       "202   188.8   68.9   55.5  3217   ohc   six  145   idi  3.01  3.40  23.0  106   \n",
       "203   188.8   68.9   55.5  3062   ohc  four  141  mpfi  3.78  3.15   9.5  114   \n",
       "\n",
       "     5000  21  27  13495  \n",
       "0    5000  21  27  16500  \n",
       "1    5000  19  26  16500  \n",
       "2    5500  24  30  13950  \n",
       "3    5500  18  22  17450  \n",
       "4    5500  19  25  15250  \n",
       "..    ...  ..  ..    ...  \n",
       "199  5400  23  28  16845  \n",
       "200  5300  19  25  19045  \n",
       "201  5500  18  23  21485  \n",
       "202  4800  26  27  22470  \n",
       "203  5400  19  25  22625  \n",
       "\n",
       "[204 rows x 26 columns]"
      ]
     },
     "execution_count": 5,
     "metadata": {},
     "output_type": "execute_result"
    }
   ],
   "source": [
    "cars"
   ]
  },
  {
   "cell_type": "markdown",
   "metadata": {},
   "source": [
    "There is no column header for the given dataset. Using the dataset's documentation, we'll assign column headers for the columns in the dataset."
   ]
  },
  {
   "cell_type": "markdown",
   "metadata": {},
   "source": [
    "## Fixing the column names"
   ]
  },
  {
   "cell_type": "code",
   "execution_count": 6,
   "metadata": {},
   "outputs": [],
   "source": [
    "column_names = [\n",
    "                'symboling',\n",
    "                'normalized-losses',\n",
    "                'make',\n",
    "                'fuel-type',\n",
    "                'aspiration',\n",
    "                'num-of-doors',\n",
    "                'body-style',\n",
    "                'drive-wheels',\n",
    "                'engine-location',\n",
    "                'wheel-base',\n",
    "                'length',\n",
    "                'width',\n",
    "                'height',\n",
    "                'curb-weight',\n",
    "                'engine-type',\n",
    "                'num-of-cylinders',\n",
    "                'engine-size',\n",
    "                'fuel-system',\n",
    "                'bore',\n",
    "                'stroke',\n",
    "                'compression-ratio',\n",
    "                'horsepower',\n",
    "                'peak-rpm',\n",
    "                'city-mpg',\n",
    "                'highway-mpg',\n",
    "                'price'\n",
    "               ]\n",
    "\n",
    "cars = pd.read_csv('imports-85.data',names=column_names)"
   ]
  },
  {
   "cell_type": "markdown",
   "metadata": {},
   "source": [
    "## Dataset columns' values inspection & determination of candidates for use in similarity metric computations, and target column identification"
   ]
  },
  {
   "cell_type": "code",
   "execution_count": 7,
   "metadata": {},
   "outputs": [
    {
     "name": "stdout",
     "output_type": "stream",
     "text": [
      "<class 'pandas.core.frame.DataFrame'>\n",
      "RangeIndex: 205 entries, 0 to 204\n",
      "Data columns (total 26 columns):\n",
      " #   Column             Non-Null Count  Dtype  \n",
      "---  ------             --------------  -----  \n",
      " 0   symboling          205 non-null    int64  \n",
      " 1   normalized-losses  205 non-null    object \n",
      " 2   make               205 non-null    object \n",
      " 3   fuel-type          205 non-null    object \n",
      " 4   aspiration         205 non-null    object \n",
      " 5   num-of-doors       205 non-null    object \n",
      " 6   body-style         205 non-null    object \n",
      " 7   drive-wheels       205 non-null    object \n",
      " 8   engine-location    205 non-null    object \n",
      " 9   wheel-base         205 non-null    float64\n",
      " 10  length             205 non-null    float64\n",
      " 11  width              205 non-null    float64\n",
      " 12  height             205 non-null    float64\n",
      " 13  curb-weight        205 non-null    int64  \n",
      " 14  engine-type        205 non-null    object \n",
      " 15  num-of-cylinders   205 non-null    object \n",
      " 16  engine-size        205 non-null    int64  \n",
      " 17  fuel-system        205 non-null    object \n",
      " 18  bore               205 non-null    object \n",
      " 19  stroke             205 non-null    object \n",
      " 20  compression-ratio  205 non-null    float64\n",
      " 21  horsepower         205 non-null    object \n",
      " 22  peak-rpm           205 non-null    object \n",
      " 23  city-mpg           205 non-null    int64  \n",
      " 24  highway-mpg        205 non-null    int64  \n",
      " 25  price              205 non-null    object \n",
      "dtypes: float64(5), int64(5), object(16)\n",
      "memory usage: 41.8+ KB\n"
     ]
    }
   ],
   "source": [
    "cars.info()"
   ]
  },
  {
   "cell_type": "code",
   "execution_count": 8,
   "metadata": {},
   "outputs": [
    {
     "data": {
      "text/html": [
       "<div>\n",
       "<style scoped>\n",
       "    .dataframe tbody tr th:only-of-type {\n",
       "        vertical-align: middle;\n",
       "    }\n",
       "\n",
       "    .dataframe tbody tr th {\n",
       "        vertical-align: top;\n",
       "    }\n",
       "\n",
       "    .dataframe thead th {\n",
       "        text-align: right;\n",
       "    }\n",
       "</style>\n",
       "<table border=\"1\" class=\"dataframe\">\n",
       "  <thead>\n",
       "    <tr style=\"text-align: right;\">\n",
       "      <th></th>\n",
       "      <th>symboling</th>\n",
       "      <th>normalized-losses</th>\n",
       "      <th>make</th>\n",
       "      <th>fuel-type</th>\n",
       "      <th>aspiration</th>\n",
       "      <th>num-of-doors</th>\n",
       "      <th>body-style</th>\n",
       "      <th>drive-wheels</th>\n",
       "      <th>engine-location</th>\n",
       "      <th>wheel-base</th>\n",
       "      <th>length</th>\n",
       "      <th>width</th>\n",
       "      <th>height</th>\n",
       "      <th>curb-weight</th>\n",
       "      <th>engine-type</th>\n",
       "      <th>num-of-cylinders</th>\n",
       "      <th>engine-size</th>\n",
       "      <th>fuel-system</th>\n",
       "      <th>bore</th>\n",
       "      <th>stroke</th>\n",
       "      <th>compression-ratio</th>\n",
       "      <th>horsepower</th>\n",
       "      <th>peak-rpm</th>\n",
       "      <th>city-mpg</th>\n",
       "      <th>highway-mpg</th>\n",
       "      <th>price</th>\n",
       "    </tr>\n",
       "  </thead>\n",
       "  <tbody>\n",
       "    <tr>\n",
       "      <th>0</th>\n",
       "      <td>3</td>\n",
       "      <td>?</td>\n",
       "      <td>alfa-romero</td>\n",
       "      <td>gas</td>\n",
       "      <td>std</td>\n",
       "      <td>two</td>\n",
       "      <td>convertible</td>\n",
       "      <td>rwd</td>\n",
       "      <td>front</td>\n",
       "      <td>88.6</td>\n",
       "      <td>168.8</td>\n",
       "      <td>64.1</td>\n",
       "      <td>48.8</td>\n",
       "      <td>2548</td>\n",
       "      <td>dohc</td>\n",
       "      <td>four</td>\n",
       "      <td>130</td>\n",
       "      <td>mpfi</td>\n",
       "      <td>3.47</td>\n",
       "      <td>2.68</td>\n",
       "      <td>9.0</td>\n",
       "      <td>111</td>\n",
       "      <td>5000</td>\n",
       "      <td>21</td>\n",
       "      <td>27</td>\n",
       "      <td>13495</td>\n",
       "    </tr>\n",
       "    <tr>\n",
       "      <th>1</th>\n",
       "      <td>3</td>\n",
       "      <td>?</td>\n",
       "      <td>alfa-romero</td>\n",
       "      <td>gas</td>\n",
       "      <td>std</td>\n",
       "      <td>two</td>\n",
       "      <td>convertible</td>\n",
       "      <td>rwd</td>\n",
       "      <td>front</td>\n",
       "      <td>88.6</td>\n",
       "      <td>168.8</td>\n",
       "      <td>64.1</td>\n",
       "      <td>48.8</td>\n",
       "      <td>2548</td>\n",
       "      <td>dohc</td>\n",
       "      <td>four</td>\n",
       "      <td>130</td>\n",
       "      <td>mpfi</td>\n",
       "      <td>3.47</td>\n",
       "      <td>2.68</td>\n",
       "      <td>9.0</td>\n",
       "      <td>111</td>\n",
       "      <td>5000</td>\n",
       "      <td>21</td>\n",
       "      <td>27</td>\n",
       "      <td>16500</td>\n",
       "    </tr>\n",
       "    <tr>\n",
       "      <th>2</th>\n",
       "      <td>1</td>\n",
       "      <td>?</td>\n",
       "      <td>alfa-romero</td>\n",
       "      <td>gas</td>\n",
       "      <td>std</td>\n",
       "      <td>two</td>\n",
       "      <td>hatchback</td>\n",
       "      <td>rwd</td>\n",
       "      <td>front</td>\n",
       "      <td>94.5</td>\n",
       "      <td>171.2</td>\n",
       "      <td>65.5</td>\n",
       "      <td>52.4</td>\n",
       "      <td>2823</td>\n",
       "      <td>ohcv</td>\n",
       "      <td>six</td>\n",
       "      <td>152</td>\n",
       "      <td>mpfi</td>\n",
       "      <td>2.68</td>\n",
       "      <td>3.47</td>\n",
       "      <td>9.0</td>\n",
       "      <td>154</td>\n",
       "      <td>5000</td>\n",
       "      <td>19</td>\n",
       "      <td>26</td>\n",
       "      <td>16500</td>\n",
       "    </tr>\n",
       "    <tr>\n",
       "      <th>3</th>\n",
       "      <td>2</td>\n",
       "      <td>164</td>\n",
       "      <td>audi</td>\n",
       "      <td>gas</td>\n",
       "      <td>std</td>\n",
       "      <td>four</td>\n",
       "      <td>sedan</td>\n",
       "      <td>fwd</td>\n",
       "      <td>front</td>\n",
       "      <td>99.8</td>\n",
       "      <td>176.6</td>\n",
       "      <td>66.2</td>\n",
       "      <td>54.3</td>\n",
       "      <td>2337</td>\n",
       "      <td>ohc</td>\n",
       "      <td>four</td>\n",
       "      <td>109</td>\n",
       "      <td>mpfi</td>\n",
       "      <td>3.19</td>\n",
       "      <td>3.40</td>\n",
       "      <td>10.0</td>\n",
       "      <td>102</td>\n",
       "      <td>5500</td>\n",
       "      <td>24</td>\n",
       "      <td>30</td>\n",
       "      <td>13950</td>\n",
       "    </tr>\n",
       "    <tr>\n",
       "      <th>4</th>\n",
       "      <td>2</td>\n",
       "      <td>164</td>\n",
       "      <td>audi</td>\n",
       "      <td>gas</td>\n",
       "      <td>std</td>\n",
       "      <td>four</td>\n",
       "      <td>sedan</td>\n",
       "      <td>4wd</td>\n",
       "      <td>front</td>\n",
       "      <td>99.4</td>\n",
       "      <td>176.6</td>\n",
       "      <td>66.4</td>\n",
       "      <td>54.3</td>\n",
       "      <td>2824</td>\n",
       "      <td>ohc</td>\n",
       "      <td>five</td>\n",
       "      <td>136</td>\n",
       "      <td>mpfi</td>\n",
       "      <td>3.19</td>\n",
       "      <td>3.40</td>\n",
       "      <td>8.0</td>\n",
       "      <td>115</td>\n",
       "      <td>5500</td>\n",
       "      <td>18</td>\n",
       "      <td>22</td>\n",
       "      <td>17450</td>\n",
       "    </tr>\n",
       "    <tr>\n",
       "      <th>...</th>\n",
       "      <td>...</td>\n",
       "      <td>...</td>\n",
       "      <td>...</td>\n",
       "      <td>...</td>\n",
       "      <td>...</td>\n",
       "      <td>...</td>\n",
       "      <td>...</td>\n",
       "      <td>...</td>\n",
       "      <td>...</td>\n",
       "      <td>...</td>\n",
       "      <td>...</td>\n",
       "      <td>...</td>\n",
       "      <td>...</td>\n",
       "      <td>...</td>\n",
       "      <td>...</td>\n",
       "      <td>...</td>\n",
       "      <td>...</td>\n",
       "      <td>...</td>\n",
       "      <td>...</td>\n",
       "      <td>...</td>\n",
       "      <td>...</td>\n",
       "      <td>...</td>\n",
       "      <td>...</td>\n",
       "      <td>...</td>\n",
       "      <td>...</td>\n",
       "      <td>...</td>\n",
       "    </tr>\n",
       "    <tr>\n",
       "      <th>200</th>\n",
       "      <td>-1</td>\n",
       "      <td>95</td>\n",
       "      <td>volvo</td>\n",
       "      <td>gas</td>\n",
       "      <td>std</td>\n",
       "      <td>four</td>\n",
       "      <td>sedan</td>\n",
       "      <td>rwd</td>\n",
       "      <td>front</td>\n",
       "      <td>109.1</td>\n",
       "      <td>188.8</td>\n",
       "      <td>68.9</td>\n",
       "      <td>55.5</td>\n",
       "      <td>2952</td>\n",
       "      <td>ohc</td>\n",
       "      <td>four</td>\n",
       "      <td>141</td>\n",
       "      <td>mpfi</td>\n",
       "      <td>3.78</td>\n",
       "      <td>3.15</td>\n",
       "      <td>9.5</td>\n",
       "      <td>114</td>\n",
       "      <td>5400</td>\n",
       "      <td>23</td>\n",
       "      <td>28</td>\n",
       "      <td>16845</td>\n",
       "    </tr>\n",
       "    <tr>\n",
       "      <th>201</th>\n",
       "      <td>-1</td>\n",
       "      <td>95</td>\n",
       "      <td>volvo</td>\n",
       "      <td>gas</td>\n",
       "      <td>turbo</td>\n",
       "      <td>four</td>\n",
       "      <td>sedan</td>\n",
       "      <td>rwd</td>\n",
       "      <td>front</td>\n",
       "      <td>109.1</td>\n",
       "      <td>188.8</td>\n",
       "      <td>68.8</td>\n",
       "      <td>55.5</td>\n",
       "      <td>3049</td>\n",
       "      <td>ohc</td>\n",
       "      <td>four</td>\n",
       "      <td>141</td>\n",
       "      <td>mpfi</td>\n",
       "      <td>3.78</td>\n",
       "      <td>3.15</td>\n",
       "      <td>8.7</td>\n",
       "      <td>160</td>\n",
       "      <td>5300</td>\n",
       "      <td>19</td>\n",
       "      <td>25</td>\n",
       "      <td>19045</td>\n",
       "    </tr>\n",
       "    <tr>\n",
       "      <th>202</th>\n",
       "      <td>-1</td>\n",
       "      <td>95</td>\n",
       "      <td>volvo</td>\n",
       "      <td>gas</td>\n",
       "      <td>std</td>\n",
       "      <td>four</td>\n",
       "      <td>sedan</td>\n",
       "      <td>rwd</td>\n",
       "      <td>front</td>\n",
       "      <td>109.1</td>\n",
       "      <td>188.8</td>\n",
       "      <td>68.9</td>\n",
       "      <td>55.5</td>\n",
       "      <td>3012</td>\n",
       "      <td>ohcv</td>\n",
       "      <td>six</td>\n",
       "      <td>173</td>\n",
       "      <td>mpfi</td>\n",
       "      <td>3.58</td>\n",
       "      <td>2.87</td>\n",
       "      <td>8.8</td>\n",
       "      <td>134</td>\n",
       "      <td>5500</td>\n",
       "      <td>18</td>\n",
       "      <td>23</td>\n",
       "      <td>21485</td>\n",
       "    </tr>\n",
       "    <tr>\n",
       "      <th>203</th>\n",
       "      <td>-1</td>\n",
       "      <td>95</td>\n",
       "      <td>volvo</td>\n",
       "      <td>diesel</td>\n",
       "      <td>turbo</td>\n",
       "      <td>four</td>\n",
       "      <td>sedan</td>\n",
       "      <td>rwd</td>\n",
       "      <td>front</td>\n",
       "      <td>109.1</td>\n",
       "      <td>188.8</td>\n",
       "      <td>68.9</td>\n",
       "      <td>55.5</td>\n",
       "      <td>3217</td>\n",
       "      <td>ohc</td>\n",
       "      <td>six</td>\n",
       "      <td>145</td>\n",
       "      <td>idi</td>\n",
       "      <td>3.01</td>\n",
       "      <td>3.40</td>\n",
       "      <td>23.0</td>\n",
       "      <td>106</td>\n",
       "      <td>4800</td>\n",
       "      <td>26</td>\n",
       "      <td>27</td>\n",
       "      <td>22470</td>\n",
       "    </tr>\n",
       "    <tr>\n",
       "      <th>204</th>\n",
       "      <td>-1</td>\n",
       "      <td>95</td>\n",
       "      <td>volvo</td>\n",
       "      <td>gas</td>\n",
       "      <td>turbo</td>\n",
       "      <td>four</td>\n",
       "      <td>sedan</td>\n",
       "      <td>rwd</td>\n",
       "      <td>front</td>\n",
       "      <td>109.1</td>\n",
       "      <td>188.8</td>\n",
       "      <td>68.9</td>\n",
       "      <td>55.5</td>\n",
       "      <td>3062</td>\n",
       "      <td>ohc</td>\n",
       "      <td>four</td>\n",
       "      <td>141</td>\n",
       "      <td>mpfi</td>\n",
       "      <td>3.78</td>\n",
       "      <td>3.15</td>\n",
       "      <td>9.5</td>\n",
       "      <td>114</td>\n",
       "      <td>5400</td>\n",
       "      <td>19</td>\n",
       "      <td>25</td>\n",
       "      <td>22625</td>\n",
       "    </tr>\n",
       "  </tbody>\n",
       "</table>\n",
       "<p>205 rows × 26 columns</p>\n",
       "</div>"
      ],
      "text/plain": [
       "     symboling normalized-losses         make fuel-type aspiration  \\\n",
       "0            3                 ?  alfa-romero       gas        std   \n",
       "1            3                 ?  alfa-romero       gas        std   \n",
       "2            1                 ?  alfa-romero       gas        std   \n",
       "3            2               164         audi       gas        std   \n",
       "4            2               164         audi       gas        std   \n",
       "..         ...               ...          ...       ...        ...   \n",
       "200         -1                95        volvo       gas        std   \n",
       "201         -1                95        volvo       gas      turbo   \n",
       "202         -1                95        volvo       gas        std   \n",
       "203         -1                95        volvo    diesel      turbo   \n",
       "204         -1                95        volvo       gas      turbo   \n",
       "\n",
       "    num-of-doors   body-style drive-wheels engine-location  wheel-base  \\\n",
       "0            two  convertible          rwd           front        88.6   \n",
       "1            two  convertible          rwd           front        88.6   \n",
       "2            two    hatchback          rwd           front        94.5   \n",
       "3           four        sedan          fwd           front        99.8   \n",
       "4           four        sedan          4wd           front        99.4   \n",
       "..           ...          ...          ...             ...         ...   \n",
       "200         four        sedan          rwd           front       109.1   \n",
       "201         four        sedan          rwd           front       109.1   \n",
       "202         four        sedan          rwd           front       109.1   \n",
       "203         four        sedan          rwd           front       109.1   \n",
       "204         four        sedan          rwd           front       109.1   \n",
       "\n",
       "     length  width  height  curb-weight engine-type num-of-cylinders  \\\n",
       "0     168.8   64.1    48.8         2548        dohc             four   \n",
       "1     168.8   64.1    48.8         2548        dohc             four   \n",
       "2     171.2   65.5    52.4         2823        ohcv              six   \n",
       "3     176.6   66.2    54.3         2337         ohc             four   \n",
       "4     176.6   66.4    54.3         2824         ohc             five   \n",
       "..      ...    ...     ...          ...         ...              ...   \n",
       "200   188.8   68.9    55.5         2952         ohc             four   \n",
       "201   188.8   68.8    55.5         3049         ohc             four   \n",
       "202   188.8   68.9    55.5         3012        ohcv              six   \n",
       "203   188.8   68.9    55.5         3217         ohc              six   \n",
       "204   188.8   68.9    55.5         3062         ohc             four   \n",
       "\n",
       "     engine-size fuel-system  bore stroke  compression-ratio horsepower  \\\n",
       "0            130        mpfi  3.47   2.68                9.0        111   \n",
       "1            130        mpfi  3.47   2.68                9.0        111   \n",
       "2            152        mpfi  2.68   3.47                9.0        154   \n",
       "3            109        mpfi  3.19   3.40               10.0        102   \n",
       "4            136        mpfi  3.19   3.40                8.0        115   \n",
       "..           ...         ...   ...    ...                ...        ...   \n",
       "200          141        mpfi  3.78   3.15                9.5        114   \n",
       "201          141        mpfi  3.78   3.15                8.7        160   \n",
       "202          173        mpfi  3.58   2.87                8.8        134   \n",
       "203          145         idi  3.01   3.40               23.0        106   \n",
       "204          141        mpfi  3.78   3.15                9.5        114   \n",
       "\n",
       "    peak-rpm  city-mpg  highway-mpg  price  \n",
       "0       5000        21           27  13495  \n",
       "1       5000        21           27  16500  \n",
       "2       5000        19           26  16500  \n",
       "3       5500        24           30  13950  \n",
       "4       5500        18           22  17450  \n",
       "..       ...       ...          ...    ...  \n",
       "200     5400        23           28  16845  \n",
       "201     5300        19           25  19045  \n",
       "202     5500        18           23  21485  \n",
       "203     4800        26           27  22470  \n",
       "204     5400        19           25  22625  \n",
       "\n",
       "[205 rows x 26 columns]"
      ]
     },
     "execution_count": 8,
     "metadata": {},
     "output_type": "execute_result"
    }
   ],
   "source": [
    "cars"
   ]
  },
  {
   "cell_type": "markdown",
   "metadata": {},
   "source": [
    "| Attributes                                                                                                      | Type                     | Representation           | Allowed? |\n",
    "|-----------------------------------------------------------------------------------------------------------------|--------------------------|--------------------------|----------|\n",
    "| `symboling`                                                                                                     |          ordinal         |             number            |    YES   |\n",
    "| `wheel-base`,`length`,`width`,`height`,`curb-weight`,`engine-size`,`compression-ratio`,`city-mpg`,`highway-mpg` |          numeric         |          number          |    YES   |\n",
    "| `normalized-losses`,`bore`,`stroke`,`horsepower`,`peak-rpm`,`price`                                             |          numeric         |   number in string form  |    YES   |\n",
    "| `num-of-doors`,`num-of-cylinders`                                                                               |          numeric         | number expressed as word |    YES   |\n",
    "| `make`,`fuel-type`,`aspiration`,`body-style`,`drive-wheels`,`engine-location`,`engine-type`,`fuel-system`       | non-numeric(categorical) |             \"            |    NO    |"
   ]
  },
  {
   "cell_type": "markdown",
   "metadata": {},
   "source": [
    "### Columns that don't meet model requirements"
   ]
  },
  {
   "cell_type": "markdown",
   "metadata": {},
   "source": [
    "The attributes of the dataset that are categorical in nature are out of contention for use as model features."
   ]
  },
  {
   "cell_type": "markdown",
   "metadata": {},
   "source": [
    "### Determination of potential features for use in similarity metric computations (i.e calculating Euclidean distance)"
   ]
  },
  {
   "cell_type": "markdown",
   "metadata": {},
   "source": [
    "From the table above, ordinal and numeric attributes could be considered for use as model's features"
   ]
  },
  {
   "cell_type": "markdown",
   "metadata": {},
   "source": [
    "### Target Column Identification"
   ]
  },
  {
   "cell_type": "markdown",
   "metadata": {},
   "source": [
    "As the goal is to predict a cars's market price, the target column would the `price` attribute."
   ]
  },
  {
   "cell_type": "markdown",
   "metadata": {},
   "source": [
    "### Number of missing values in each column"
   ]
  },
  {
   "cell_type": "markdown",
   "metadata": {},
   "source": [
    "#### Initial observations"
   ]
  },
  {
   "cell_type": "code",
   "execution_count": 9,
   "metadata": {},
   "outputs": [
    {
     "data": {
      "text/plain": [
       "symboling            0\n",
       "normalized-losses    0\n",
       "make                 0\n",
       "fuel-type            0\n",
       "aspiration           0\n",
       "num-of-doors         0\n",
       "body-style           0\n",
       "drive-wheels         0\n",
       "engine-location      0\n",
       "wheel-base           0\n",
       "length               0\n",
       "width                0\n",
       "height               0\n",
       "curb-weight          0\n",
       "engine-type          0\n",
       "num-of-cylinders     0\n",
       "engine-size          0\n",
       "fuel-system          0\n",
       "bore                 0\n",
       "stroke               0\n",
       "compression-ratio    0\n",
       "horsepower           0\n",
       "peak-rpm             0\n",
       "city-mpg             0\n",
       "highway-mpg          0\n",
       "price                0\n",
       "dtype: int64"
      ]
     },
     "execution_count": 9,
     "metadata": {},
     "output_type": "execute_result"
    }
   ],
   "source": [
    "cars_columns_num_missing_values = cars.isnull().sum()\n",
    "cars_columns_num_missing_values"
   ]
  },
  {
   "cell_type": "markdown",
   "metadata": {},
   "source": [
    "Though there aren't any observable missing values at first glance, there could be certain symbols in the dataset that indicate the presence of one."
   ]
  },
  {
   "cell_type": "markdown",
   "metadata": {},
   "source": [
    "#### Further inspection"
   ]
  },
  {
   "cell_type": "code",
   "execution_count": 10,
   "metadata": {},
   "outputs": [
    {
     "name": "stdout",
     "output_type": "stream",
     "text": [
      "symboling:\n",
      "[ 3  1  2  0 -1 -2]\n",
      "\n",
      "\n",
      "normalized-losses:\n",
      "['?' '164' '158' '192' '188' '121' '98' '81' '118' '148' '110' '145' '137'\n",
      " '101' '78' '106' '85' '107' '104' '113' '150' '129' '115' '93' '142'\n",
      " '161' '153' '125' '128' '122' '103' '168' '108' '194' '231' '119' '154'\n",
      " '74' '186' '83' '102' '89' '87' '77' '91' '134' '65' '197' '90' '94'\n",
      " '256' '95']\n",
      "\n",
      "\n",
      "make:\n",
      "['alfa-romero' 'audi' 'bmw' 'chevrolet' 'dodge' 'honda' 'isuzu' 'jaguar'\n",
      " 'mazda' 'mercedes-benz' 'mercury' 'mitsubishi' 'nissan' 'peugot'\n",
      " 'plymouth' 'porsche' 'renault' 'saab' 'subaru' 'toyota' 'volkswagen'\n",
      " 'volvo']\n",
      "\n",
      "\n",
      "fuel-type:\n",
      "['gas' 'diesel']\n",
      "\n",
      "\n",
      "aspiration:\n",
      "['std' 'turbo']\n",
      "\n",
      "\n",
      "num-of-doors:\n",
      "['two' 'four' '?']\n",
      "\n",
      "\n",
      "body-style:\n",
      "['convertible' 'hatchback' 'sedan' 'wagon' 'hardtop']\n",
      "\n",
      "\n",
      "drive-wheels:\n",
      "['rwd' 'fwd' '4wd']\n",
      "\n",
      "\n",
      "engine-location:\n",
      "['front' 'rear']\n",
      "\n",
      "\n",
      "wheel-base:\n",
      "[ 88.6  94.5  99.8  99.4 105.8  99.5 101.2 103.5 110.   88.4  93.7 103.3\n",
      "  95.9  86.6  96.5  94.3  96.  113.  102.   93.1  95.3  98.8 104.9 106.7\n",
      " 115.6  96.6 120.9 112.  102.7  93.   96.3  95.1  97.2 100.4  91.3  99.2\n",
      " 107.9 114.2 108.   89.5  98.4  96.1  99.1  93.3  97.   96.9  95.7 102.4\n",
      " 102.9 104.5  97.3 104.3 109.1]\n",
      "\n",
      "\n",
      "length:\n",
      "[168.8 171.2 176.6 177.3 192.7 178.2 176.8 189.  193.8 197.  141.1 155.9\n",
      " 158.8 157.3 174.6 173.2 144.6 150.  163.4 157.1 167.5 175.4 169.1 170.7\n",
      " 172.6 199.6 191.7 159.1 166.8 169.  177.8 175.  190.9 187.5 202.6 180.3\n",
      " 208.1 199.2 178.4 173.  172.4 165.3 170.2 165.6 162.4 173.4 181.7 184.6\n",
      " 178.5 186.7 198.9 167.3 168.9 175.7 181.5 186.6 156.9 157.9 172.  173.5\n",
      " 173.6 158.7 169.7 166.3 168.7 176.2 175.6 183.5 187.8 171.7 159.3 165.7\n",
      " 180.2 183.1 188.8]\n",
      "\n",
      "\n",
      "width:\n",
      "[64.1 65.5 66.2 66.4 66.3 71.4 67.9 64.8 66.9 70.9 60.3 63.6 63.8 64.6\n",
      " 63.9 64.  65.2 62.5 66.  61.8 69.6 70.6 64.2 65.7 66.5 66.1 70.3 71.7\n",
      " 70.5 72.  68.  64.4 65.4 68.4 68.3 65.  72.3 66.6 63.4 65.6 67.7 67.2\n",
      " 68.9 68.8]\n",
      "\n",
      "\n",
      "height:\n",
      "[48.8 52.4 54.3 53.1 55.7 55.9 52.  53.7 56.3 53.2 50.8 50.6 59.8 50.2\n",
      " 52.6 54.5 58.3 53.3 54.1 51.  53.5 51.4 52.8 47.8 49.6 55.5 54.4 56.5\n",
      " 58.7 54.9 56.7 55.4 54.8 49.4 51.6 54.7 55.1 56.1 49.7 56.  50.5 55.2\n",
      " 52.5 53.  59.1 53.9 55.6 56.2 57.5]\n",
      "\n",
      "\n",
      "curb-weight:\n",
      "[2548 2823 2337 2824 2507 2844 2954 3086 3053 2395 2710 2765 3055 3230\n",
      " 3380 3505 1488 1874 1909 1876 2128 1967 1989 2191 2535 2811 1713 1819\n",
      " 1837 1940 1956 2010 2024 2236 2289 2304 2372 2465 2293 2734 4066 3950\n",
      " 1890 1900 1905 1945 1950 2380 2385 2500 2410 2443 2425 2670 2700 3515\n",
      " 3750 3495 3770 3740 3685 3900 3715 2910 1918 1944 2004 2145 2370 2328\n",
      " 2833 2921 2926 2365 2405 2403 1889 2017 1938 1951 2028 1971 2037 2008\n",
      " 2324 2302 3095 3296 3060 3071 3139 3020 3197 3430 3075 3252 3285 3485\n",
      " 3130 2818 2778 2756 2800 3366 2579 2460 2658 2695 2707 2758 2808 2847\n",
      " 2050 2120 2240 2190 2340 2510 2290 2455 2420 2650 1985 2040 2015 2280\n",
      " 3110 2081 2109 2275 2094 2122 2140 2169 2204 2265 2300 2540 2536 2551\n",
      " 2679 2714 2975 2326 2480 2414 2458 2976 3016 3131 3151 2261 2209 2264\n",
      " 2212 2319 2254 2221 2661 2563 2912 3034 2935 3042 3045 3157 2952 3049\n",
      " 3012 3217 3062]\n",
      "\n",
      "\n",
      "engine-type:\n",
      "['dohc' 'ohcv' 'ohc' 'l' 'rotor' 'ohcf' 'dohcv']\n",
      "\n",
      "\n",
      "num-of-cylinders:\n",
      "['four' 'six' 'five' 'three' 'twelve' 'two' 'eight']\n",
      "\n",
      "\n",
      "engine-size:\n",
      "[130 152 109 136 131 108 164 209  61  90  98 122 156  92  79 110 111 119\n",
      " 258 326  91  70  80 140 134 183 234 308 304  97 103 120 181 151 194 203\n",
      " 132 121 146 171 161 141 173 145]\n",
      "\n",
      "\n",
      "fuel-system:\n",
      "['mpfi' '2bbl' 'mfi' '1bbl' 'spfi' '4bbl' 'idi' 'spdi']\n",
      "\n",
      "\n",
      "bore:\n",
      "['3.47' '2.68' '3.19' '3.13' '3.50' '3.31' '3.62' '2.91' '3.03' '2.97'\n",
      " '3.34' '3.60' '2.92' '3.15' '3.43' '3.63' '3.54' '3.08' '?' '3.39' '3.76'\n",
      " '3.58' '3.46' '3.80' '3.78' '3.17' '3.35' '3.59' '2.99' '3.33' '3.70'\n",
      " '3.61' '3.94' '3.74' '2.54' '3.05' '3.27' '3.24' '3.01']\n",
      "\n",
      "\n",
      "stroke:\n",
      "['2.68' '3.47' '3.40' '2.80' '3.19' '3.39' '3.03' '3.11' '3.23' '3.46'\n",
      " '3.90' '3.41' '3.07' '3.58' '4.17' '2.76' '3.15' '?' '3.16' '3.64' '3.10'\n",
      " '3.35' '3.12' '3.86' '3.29' '3.27' '3.52' '2.19' '3.21' '2.90' '2.07'\n",
      " '2.36' '2.64' '3.08' '3.50' '3.54' '2.87']\n",
      "\n",
      "\n",
      "compression-ratio:\n",
      "[ 9.   10.    8.    8.5   8.3   7.    8.8   9.5   9.6   9.41  9.4   7.6\n",
      "  9.2  10.1   9.1   8.1  11.5   8.6  22.7  22.   21.5   7.5  21.9   7.8\n",
      "  8.4  21.    8.7   9.31  9.3   7.7  22.5  23.  ]\n",
      "\n",
      "\n",
      "horsepower:\n",
      "['111' '154' '102' '115' '110' '140' '160' '101' '121' '182' '48' '70'\n",
      " '68' '88' '145' '58' '76' '60' '86' '100' '78' '90' '176' '262' '135'\n",
      " '84' '64' '120' '72' '123' '155' '184' '175' '116' '69' '55' '97' '152'\n",
      " '200' '95' '142' '143' '207' '288' '?' '73' '82' '94' '62' '56' '112'\n",
      " '92' '161' '156' '52' '85' '114' '162' '134' '106']\n",
      "\n",
      "\n",
      "peak-rpm:\n",
      "['5000' '5500' '5800' '4250' '5400' '5100' '4800' '6000' '4750' '4650'\n",
      " '4200' '4350' '4500' '5200' '4150' '5600' '5900' '5750' '?' '5250' '4900'\n",
      " '4400' '6600' '5300']\n",
      "\n",
      "\n",
      "city-mpg:\n",
      "[21 19 24 18 17 16 23 20 15 47 38 37 31 49 30 27 25 13 26 36 22 14 45 28\n",
      " 32 35 34 29 33]\n",
      "\n",
      "\n",
      "highway-mpg:\n",
      "[27 26 30 22 25 20 29 28 53 43 41 38 24 54 42 34 33 31 19 17 23 32 39 18\n",
      " 16 37 50 36 47 46]\n",
      "\n",
      "\n",
      "price:\n",
      "['13495' '16500' '13950' '17450' '15250' '17710' '18920' '23875' '?'\n",
      " '16430' '16925' '20970' '21105' '24565' '30760' '41315' '36880' '5151'\n",
      " '6295' '6575' '5572' '6377' '7957' '6229' '6692' '7609' '8558' '8921'\n",
      " '12964' '6479' '6855' '5399' '6529' '7129' '7295' '7895' '9095' '8845'\n",
      " '10295' '12945' '10345' '6785' '11048' '32250' '35550' '36000' '5195'\n",
      " '6095' '6795' '6695' '7395' '10945' '11845' '13645' '15645' '8495'\n",
      " '10595' '10245' '10795' '11245' '18280' '18344' '25552' '28248' '28176'\n",
      " '31600' '34184' '35056' '40960' '45400' '16503' '5389' '6189' '6669'\n",
      " '7689' '9959' '8499' '12629' '14869' '14489' '6989' '8189' '9279' '5499'\n",
      " '7099' '6649' '6849' '7349' '7299' '7799' '7499' '7999' '8249' '8949'\n",
      " '9549' '13499' '14399' '17199' '19699' '18399' '11900' '13200' '12440'\n",
      " '13860' '15580' '16900' '16695' '17075' '16630' '17950' '18150' '12764'\n",
      " '22018' '32528' '34028' '37028' '9295' '9895' '11850' '12170' '15040'\n",
      " '15510' '18620' '5118' '7053' '7603' '7126' '7775' '9960' '9233' '11259'\n",
      " '7463' '10198' '8013' '11694' '5348' '6338' '6488' '6918' '7898' '8778'\n",
      " '6938' '7198' '7788' '7738' '8358' '9258' '8058' '8238' '9298' '9538'\n",
      " '8449' '9639' '9989' '11199' '11549' '17669' '8948' '10698' '9988'\n",
      " '10898' '11248' '16558' '15998' '15690' '15750' '7975' '7995' '8195'\n",
      " '9495' '9995' '11595' '9980' '13295' '13845' '12290' '12940' '13415'\n",
      " '15985' '16515' '18420' '18950' '16845' '19045' '21485' '22470' '22625']\n",
      "\n",
      "\n"
     ]
    }
   ],
   "source": [
    "for c_name in cars.columns:\n",
    "    print(c_name + \":\")\n",
    "    print(cars[c_name].unique())\n",
    "    print(\"\\n\")"
   ]
  },
  {
   "cell_type": "markdown",
   "metadata": {},
   "source": [
    "It looks like the `?` symbol indicates a missing value in the dataset."
   ]
  },
  {
   "cell_type": "markdown",
   "metadata": {},
   "source": [
    "# Data Cleaning"
   ]
  },
  {
   "cell_type": "markdown",
   "metadata": {},
   "source": [
    "We usually can't have any missing values if we want to use them for predictive modeling. Let's also rescale the values in the numeric columns so they all range from 0 to 1."
   ]
  },
  {
   "cell_type": "markdown",
   "metadata": {
    "heading_collapsed": true
   },
   "source": [
    "## Replacing the `?` missing value with `np.nan`"
   ]
  },
  {
   "cell_type": "code",
   "execution_count": 11,
   "metadata": {
    "hidden": true,
    "scrolled": true
   },
   "outputs": [
    {
     "data": {
      "text/plain": [
       "symboling             0\n",
       "normalized-losses    41\n",
       "make                  0\n",
       "fuel-type             0\n",
       "aspiration            0\n",
       "num-of-doors          2\n",
       "body-style            0\n",
       "drive-wheels          0\n",
       "engine-location       0\n",
       "wheel-base            0\n",
       "length                0\n",
       "width                 0\n",
       "height                0\n",
       "curb-weight           0\n",
       "engine-type           0\n",
       "num-of-cylinders      0\n",
       "engine-size           0\n",
       "fuel-system           0\n",
       "bore                  4\n",
       "stroke                4\n",
       "compression-ratio     0\n",
       "horsepower            2\n",
       "peak-rpm              2\n",
       "city-mpg              0\n",
       "highway-mpg           0\n",
       "price                 4\n",
       "dtype: int64"
      ]
     },
     "execution_count": 11,
     "metadata": {},
     "output_type": "execute_result"
    }
   ],
   "source": [
    "cars.replace(to_replace=\"?\",value=np.NaN,inplace=True)\n",
    "cars.isnull().sum() "
   ]
  },
  {
   "cell_type": "markdown",
   "metadata": {},
   "source": [
    "## Converting columns to numeric types"
   ]
  },
  {
   "cell_type": "markdown",
   "metadata": {},
   "source": [
    "### Converting columns containing numbers in strings"
   ]
  },
  {
   "cell_type": "code",
   "execution_count": 12,
   "metadata": {
    "scrolled": true
   },
   "outputs": [],
   "source": [
    "num_string_columns = ['normalized-losses','bore','stroke','horsepower','peak-rpm','price']\n",
    "cars = cars.astype(dtype={col:'float' for col in num_string_columns})"
   ]
  },
  {
   "cell_type": "markdown",
   "metadata": {},
   "source": [
    "### Converting columns containing numbers expressed as word"
   ]
  },
  {
   "cell_type": "code",
   "execution_count": 13,
   "metadata": {},
   "outputs": [
    {
     "data": {
      "text/plain": [
       "['eight', 'five', 'four', 'twelve', 'three', 'two', 'six']"
      ]
     },
     "execution_count": 13,
     "metadata": {},
     "output_type": "execute_result"
    }
   ],
   "source": [
    "num_word_columns = ['num-of-doors','num-of-cylinders']\n",
    "numeric_words = list(set(np.concatenate([cars[col].unique() for col in num_word_columns])))\n",
    "numeric_words.remove(np.nan)\n",
    "numeric_words"
   ]
  },
  {
   "cell_type": "code",
   "execution_count": 14,
   "metadata": {},
   "outputs": [
    {
     "data": {
      "text/plain": [
       "{'eight': 8,\n",
       " 'five': 5,\n",
       " 'four': 4,\n",
       " 'twelve': 12,\n",
       " 'three': 3,\n",
       " 'two': 2,\n",
       " 'six': 6}"
      ]
     },
     "execution_count": 14,
     "metadata": {},
     "output_type": "execute_result"
    }
   ],
   "source": [
    "word_to_num_mapping = {word:w2n.word_to_num(word) for word in numeric_words}\n",
    "word_to_num_mapping"
   ]
  },
  {
   "cell_type": "code",
   "execution_count": 15,
   "metadata": {
    "scrolled": true
   },
   "outputs": [],
   "source": [
    "cars.replace(word_to_num_mapping,inplace=True)\n",
    "cars = cars.astype(dtype={col:'float' for col in num_word_columns})"
   ]
  },
  {
   "cell_type": "markdown",
   "metadata": {},
   "source": [
    "### Final datatypes of the cars dataset"
   ]
  },
  {
   "cell_type": "code",
   "execution_count": 16,
   "metadata": {},
   "outputs": [
    {
     "data": {
      "text/plain": [
       "symboling              int64\n",
       "normalized-losses    float64\n",
       "make                  object\n",
       "fuel-type             object\n",
       "aspiration            object\n",
       "num-of-doors         float64\n",
       "body-style            object\n",
       "drive-wheels          object\n",
       "engine-location       object\n",
       "wheel-base           float64\n",
       "length               float64\n",
       "width                float64\n",
       "height               float64\n",
       "curb-weight            int64\n",
       "engine-type           object\n",
       "num-of-cylinders     float64\n",
       "engine-size            int64\n",
       "fuel-system           object\n",
       "bore                 float64\n",
       "stroke               float64\n",
       "compression-ratio    float64\n",
       "horsepower           float64\n",
       "peak-rpm             float64\n",
       "city-mpg               int64\n",
       "highway-mpg            int64\n",
       "price                float64\n",
       "dtype: object"
      ]
     },
     "execution_count": 16,
     "metadata": {},
     "output_type": "execute_result"
    }
   ],
   "source": [
    "cars.dtypes"
   ]
  },
  {
   "cell_type": "markdown",
   "metadata": {},
   "source": [
    "## Eliminating non-numeric columns"
   ]
  },
  {
   "cell_type": "code",
   "execution_count": 17,
   "metadata": {},
   "outputs": [
    {
     "data": {
      "text/plain": [
       "Index(['symboling', 'normalized-losses', 'num-of-doors', 'wheel-base',\n",
       "       'length', 'width', 'height', 'curb-weight', 'num-of-cylinders',\n",
       "       'engine-size', 'bore', 'stroke', 'compression-ratio', 'horsepower',\n",
       "       'peak-rpm', 'city-mpg', 'highway-mpg', 'price'],\n",
       "      dtype='object')"
      ]
     },
     "execution_count": 17,
     "metadata": {},
     "output_type": "execute_result"
    }
   ],
   "source": [
    "cars_model_attributes = cars.columns[cars.dtypes != 'object']\n",
    "cars_model_attributes"
   ]
  },
  {
   "cell_type": "code",
   "execution_count": 18,
   "metadata": {},
   "outputs": [
    {
     "data": {
      "text/plain": [
       "['normalized-losses',\n",
       " 'wheel-base',\n",
       " 'length',\n",
       " 'width',\n",
       " 'height',\n",
       " 'curb-weight',\n",
       " 'engine-size',\n",
       " 'bore',\n",
       " 'stroke',\n",
       " 'compression-ratio',\n",
       " 'horsepower',\n",
       " 'peak-rpm',\n",
       " 'city-mpg',\n",
       " 'highway-mpg',\n",
       " 'price']"
      ]
     },
     "execution_count": 18,
     "metadata": {},
     "output_type": "execute_result"
    }
   ],
   "source": [
    "cars_model_continuous_attributes = [attribute for attribute in cars_model_attributes if attribute not in ['symboling','num-of-doors','num-of-cylinders']]\n",
    "cars_model_continuous_attributes"
   ]
  },
  {
   "cell_type": "code",
   "execution_count": 19,
   "metadata": {},
   "outputs": [
    {
     "data": {
      "text/html": [
       "<div>\n",
       "<style scoped>\n",
       "    .dataframe tbody tr th:only-of-type {\n",
       "        vertical-align: middle;\n",
       "    }\n",
       "\n",
       "    .dataframe tbody tr th {\n",
       "        vertical-align: top;\n",
       "    }\n",
       "\n",
       "    .dataframe thead th {\n",
       "        text-align: right;\n",
       "    }\n",
       "</style>\n",
       "<table border=\"1\" class=\"dataframe\">\n",
       "  <thead>\n",
       "    <tr style=\"text-align: right;\">\n",
       "      <th></th>\n",
       "      <th>symboling</th>\n",
       "      <th>normalized-losses</th>\n",
       "      <th>num-of-doors</th>\n",
       "      <th>wheel-base</th>\n",
       "      <th>length</th>\n",
       "      <th>width</th>\n",
       "      <th>height</th>\n",
       "      <th>curb-weight</th>\n",
       "      <th>num-of-cylinders</th>\n",
       "      <th>engine-size</th>\n",
       "      <th>bore</th>\n",
       "      <th>stroke</th>\n",
       "      <th>compression-ratio</th>\n",
       "      <th>horsepower</th>\n",
       "      <th>peak-rpm</th>\n",
       "      <th>city-mpg</th>\n",
       "      <th>highway-mpg</th>\n",
       "      <th>price</th>\n",
       "    </tr>\n",
       "  </thead>\n",
       "  <tbody>\n",
       "    <tr>\n",
       "      <th>0</th>\n",
       "      <td>3</td>\n",
       "      <td>NaN</td>\n",
       "      <td>2.0</td>\n",
       "      <td>88.6</td>\n",
       "      <td>168.8</td>\n",
       "      <td>64.1</td>\n",
       "      <td>48.8</td>\n",
       "      <td>2548</td>\n",
       "      <td>4.0</td>\n",
       "      <td>130</td>\n",
       "      <td>3.47</td>\n",
       "      <td>2.68</td>\n",
       "      <td>9.0</td>\n",
       "      <td>111.0</td>\n",
       "      <td>5000.0</td>\n",
       "      <td>21</td>\n",
       "      <td>27</td>\n",
       "      <td>13495.0</td>\n",
       "    </tr>\n",
       "    <tr>\n",
       "      <th>1</th>\n",
       "      <td>3</td>\n",
       "      <td>NaN</td>\n",
       "      <td>2.0</td>\n",
       "      <td>88.6</td>\n",
       "      <td>168.8</td>\n",
       "      <td>64.1</td>\n",
       "      <td>48.8</td>\n",
       "      <td>2548</td>\n",
       "      <td>4.0</td>\n",
       "      <td>130</td>\n",
       "      <td>3.47</td>\n",
       "      <td>2.68</td>\n",
       "      <td>9.0</td>\n",
       "      <td>111.0</td>\n",
       "      <td>5000.0</td>\n",
       "      <td>21</td>\n",
       "      <td>27</td>\n",
       "      <td>16500.0</td>\n",
       "    </tr>\n",
       "    <tr>\n",
       "      <th>2</th>\n",
       "      <td>1</td>\n",
       "      <td>NaN</td>\n",
       "      <td>2.0</td>\n",
       "      <td>94.5</td>\n",
       "      <td>171.2</td>\n",
       "      <td>65.5</td>\n",
       "      <td>52.4</td>\n",
       "      <td>2823</td>\n",
       "      <td>6.0</td>\n",
       "      <td>152</td>\n",
       "      <td>2.68</td>\n",
       "      <td>3.47</td>\n",
       "      <td>9.0</td>\n",
       "      <td>154.0</td>\n",
       "      <td>5000.0</td>\n",
       "      <td>19</td>\n",
       "      <td>26</td>\n",
       "      <td>16500.0</td>\n",
       "    </tr>\n",
       "    <tr>\n",
       "      <th>3</th>\n",
       "      <td>2</td>\n",
       "      <td>164.0</td>\n",
       "      <td>4.0</td>\n",
       "      <td>99.8</td>\n",
       "      <td>176.6</td>\n",
       "      <td>66.2</td>\n",
       "      <td>54.3</td>\n",
       "      <td>2337</td>\n",
       "      <td>4.0</td>\n",
       "      <td>109</td>\n",
       "      <td>3.19</td>\n",
       "      <td>3.40</td>\n",
       "      <td>10.0</td>\n",
       "      <td>102.0</td>\n",
       "      <td>5500.0</td>\n",
       "      <td>24</td>\n",
       "      <td>30</td>\n",
       "      <td>13950.0</td>\n",
       "    </tr>\n",
       "    <tr>\n",
       "      <th>4</th>\n",
       "      <td>2</td>\n",
       "      <td>164.0</td>\n",
       "      <td>4.0</td>\n",
       "      <td>99.4</td>\n",
       "      <td>176.6</td>\n",
       "      <td>66.4</td>\n",
       "      <td>54.3</td>\n",
       "      <td>2824</td>\n",
       "      <td>5.0</td>\n",
       "      <td>136</td>\n",
       "      <td>3.19</td>\n",
       "      <td>3.40</td>\n",
       "      <td>8.0</td>\n",
       "      <td>115.0</td>\n",
       "      <td>5500.0</td>\n",
       "      <td>18</td>\n",
       "      <td>22</td>\n",
       "      <td>17450.0</td>\n",
       "    </tr>\n",
       "    <tr>\n",
       "      <th>...</th>\n",
       "      <td>...</td>\n",
       "      <td>...</td>\n",
       "      <td>...</td>\n",
       "      <td>...</td>\n",
       "      <td>...</td>\n",
       "      <td>...</td>\n",
       "      <td>...</td>\n",
       "      <td>...</td>\n",
       "      <td>...</td>\n",
       "      <td>...</td>\n",
       "      <td>...</td>\n",
       "      <td>...</td>\n",
       "      <td>...</td>\n",
       "      <td>...</td>\n",
       "      <td>...</td>\n",
       "      <td>...</td>\n",
       "      <td>...</td>\n",
       "      <td>...</td>\n",
       "    </tr>\n",
       "    <tr>\n",
       "      <th>200</th>\n",
       "      <td>-1</td>\n",
       "      <td>95.0</td>\n",
       "      <td>4.0</td>\n",
       "      <td>109.1</td>\n",
       "      <td>188.8</td>\n",
       "      <td>68.9</td>\n",
       "      <td>55.5</td>\n",
       "      <td>2952</td>\n",
       "      <td>4.0</td>\n",
       "      <td>141</td>\n",
       "      <td>3.78</td>\n",
       "      <td>3.15</td>\n",
       "      <td>9.5</td>\n",
       "      <td>114.0</td>\n",
       "      <td>5400.0</td>\n",
       "      <td>23</td>\n",
       "      <td>28</td>\n",
       "      <td>16845.0</td>\n",
       "    </tr>\n",
       "    <tr>\n",
       "      <th>201</th>\n",
       "      <td>-1</td>\n",
       "      <td>95.0</td>\n",
       "      <td>4.0</td>\n",
       "      <td>109.1</td>\n",
       "      <td>188.8</td>\n",
       "      <td>68.8</td>\n",
       "      <td>55.5</td>\n",
       "      <td>3049</td>\n",
       "      <td>4.0</td>\n",
       "      <td>141</td>\n",
       "      <td>3.78</td>\n",
       "      <td>3.15</td>\n",
       "      <td>8.7</td>\n",
       "      <td>160.0</td>\n",
       "      <td>5300.0</td>\n",
       "      <td>19</td>\n",
       "      <td>25</td>\n",
       "      <td>19045.0</td>\n",
       "    </tr>\n",
       "    <tr>\n",
       "      <th>202</th>\n",
       "      <td>-1</td>\n",
       "      <td>95.0</td>\n",
       "      <td>4.0</td>\n",
       "      <td>109.1</td>\n",
       "      <td>188.8</td>\n",
       "      <td>68.9</td>\n",
       "      <td>55.5</td>\n",
       "      <td>3012</td>\n",
       "      <td>6.0</td>\n",
       "      <td>173</td>\n",
       "      <td>3.58</td>\n",
       "      <td>2.87</td>\n",
       "      <td>8.8</td>\n",
       "      <td>134.0</td>\n",
       "      <td>5500.0</td>\n",
       "      <td>18</td>\n",
       "      <td>23</td>\n",
       "      <td>21485.0</td>\n",
       "    </tr>\n",
       "    <tr>\n",
       "      <th>203</th>\n",
       "      <td>-1</td>\n",
       "      <td>95.0</td>\n",
       "      <td>4.0</td>\n",
       "      <td>109.1</td>\n",
       "      <td>188.8</td>\n",
       "      <td>68.9</td>\n",
       "      <td>55.5</td>\n",
       "      <td>3217</td>\n",
       "      <td>6.0</td>\n",
       "      <td>145</td>\n",
       "      <td>3.01</td>\n",
       "      <td>3.40</td>\n",
       "      <td>23.0</td>\n",
       "      <td>106.0</td>\n",
       "      <td>4800.0</td>\n",
       "      <td>26</td>\n",
       "      <td>27</td>\n",
       "      <td>22470.0</td>\n",
       "    </tr>\n",
       "    <tr>\n",
       "      <th>204</th>\n",
       "      <td>-1</td>\n",
       "      <td>95.0</td>\n",
       "      <td>4.0</td>\n",
       "      <td>109.1</td>\n",
       "      <td>188.8</td>\n",
       "      <td>68.9</td>\n",
       "      <td>55.5</td>\n",
       "      <td>3062</td>\n",
       "      <td>4.0</td>\n",
       "      <td>141</td>\n",
       "      <td>3.78</td>\n",
       "      <td>3.15</td>\n",
       "      <td>9.5</td>\n",
       "      <td>114.0</td>\n",
       "      <td>5400.0</td>\n",
       "      <td>19</td>\n",
       "      <td>25</td>\n",
       "      <td>22625.0</td>\n",
       "    </tr>\n",
       "  </tbody>\n",
       "</table>\n",
       "<p>205 rows × 18 columns</p>\n",
       "</div>"
      ],
      "text/plain": [
       "     symboling  normalized-losses  num-of-doors  wheel-base  length  width  \\\n",
       "0            3                NaN           2.0        88.6   168.8   64.1   \n",
       "1            3                NaN           2.0        88.6   168.8   64.1   \n",
       "2            1                NaN           2.0        94.5   171.2   65.5   \n",
       "3            2              164.0           4.0        99.8   176.6   66.2   \n",
       "4            2              164.0           4.0        99.4   176.6   66.4   \n",
       "..         ...                ...           ...         ...     ...    ...   \n",
       "200         -1               95.0           4.0       109.1   188.8   68.9   \n",
       "201         -1               95.0           4.0       109.1   188.8   68.8   \n",
       "202         -1               95.0           4.0       109.1   188.8   68.9   \n",
       "203         -1               95.0           4.0       109.1   188.8   68.9   \n",
       "204         -1               95.0           4.0       109.1   188.8   68.9   \n",
       "\n",
       "     height  curb-weight  num-of-cylinders  engine-size  bore  stroke  \\\n",
       "0      48.8         2548               4.0          130  3.47    2.68   \n",
       "1      48.8         2548               4.0          130  3.47    2.68   \n",
       "2      52.4         2823               6.0          152  2.68    3.47   \n",
       "3      54.3         2337               4.0          109  3.19    3.40   \n",
       "4      54.3         2824               5.0          136  3.19    3.40   \n",
       "..      ...          ...               ...          ...   ...     ...   \n",
       "200    55.5         2952               4.0          141  3.78    3.15   \n",
       "201    55.5         3049               4.0          141  3.78    3.15   \n",
       "202    55.5         3012               6.0          173  3.58    2.87   \n",
       "203    55.5         3217               6.0          145  3.01    3.40   \n",
       "204    55.5         3062               4.0          141  3.78    3.15   \n",
       "\n",
       "     compression-ratio  horsepower  peak-rpm  city-mpg  highway-mpg    price  \n",
       "0                  9.0       111.0    5000.0        21           27  13495.0  \n",
       "1                  9.0       111.0    5000.0        21           27  16500.0  \n",
       "2                  9.0       154.0    5000.0        19           26  16500.0  \n",
       "3                 10.0       102.0    5500.0        24           30  13950.0  \n",
       "4                  8.0       115.0    5500.0        18           22  17450.0  \n",
       "..                 ...         ...       ...       ...          ...      ...  \n",
       "200                9.5       114.0    5400.0        23           28  16845.0  \n",
       "201                8.7       160.0    5300.0        19           25  19045.0  \n",
       "202                8.8       134.0    5500.0        18           23  21485.0  \n",
       "203               23.0       106.0    4800.0        26           27  22470.0  \n",
       "204                9.5       114.0    5400.0        19           25  22625.0  \n",
       "\n",
       "[205 rows x 18 columns]"
      ]
     },
     "execution_count": 19,
     "metadata": {},
     "output_type": "execute_result"
    }
   ],
   "source": [
    "cars_model_data = cars[cars_model_attributes].copy()\n",
    "cars_model_data"
   ]
  },
  {
   "cell_type": "code",
   "execution_count": 20,
   "metadata": {},
   "outputs": [
    {
     "data": {
      "text/html": [
       "<div>\n",
       "<style scoped>\n",
       "    .dataframe tbody tr th:only-of-type {\n",
       "        vertical-align: middle;\n",
       "    }\n",
       "\n",
       "    .dataframe tbody tr th {\n",
       "        vertical-align: top;\n",
       "    }\n",
       "\n",
       "    .dataframe thead th {\n",
       "        text-align: right;\n",
       "    }\n",
       "</style>\n",
       "<table border=\"1\" class=\"dataframe\">\n",
       "  <thead>\n",
       "    <tr style=\"text-align: right;\">\n",
       "      <th></th>\n",
       "      <th>normalized-losses</th>\n",
       "      <th>wheel-base</th>\n",
       "      <th>length</th>\n",
       "      <th>width</th>\n",
       "      <th>height</th>\n",
       "      <th>curb-weight</th>\n",
       "      <th>engine-size</th>\n",
       "      <th>bore</th>\n",
       "      <th>stroke</th>\n",
       "      <th>compression-ratio</th>\n",
       "      <th>horsepower</th>\n",
       "      <th>peak-rpm</th>\n",
       "      <th>city-mpg</th>\n",
       "      <th>highway-mpg</th>\n",
       "      <th>price</th>\n",
       "    </tr>\n",
       "  </thead>\n",
       "  <tbody>\n",
       "    <tr>\n",
       "      <th>0</th>\n",
       "      <td>NaN</td>\n",
       "      <td>88.6</td>\n",
       "      <td>168.8</td>\n",
       "      <td>64.1</td>\n",
       "      <td>48.8</td>\n",
       "      <td>2548</td>\n",
       "      <td>130</td>\n",
       "      <td>3.47</td>\n",
       "      <td>2.68</td>\n",
       "      <td>9.0</td>\n",
       "      <td>111.0</td>\n",
       "      <td>5000.0</td>\n",
       "      <td>21</td>\n",
       "      <td>27</td>\n",
       "      <td>13495.0</td>\n",
       "    </tr>\n",
       "    <tr>\n",
       "      <th>1</th>\n",
       "      <td>NaN</td>\n",
       "      <td>88.6</td>\n",
       "      <td>168.8</td>\n",
       "      <td>64.1</td>\n",
       "      <td>48.8</td>\n",
       "      <td>2548</td>\n",
       "      <td>130</td>\n",
       "      <td>3.47</td>\n",
       "      <td>2.68</td>\n",
       "      <td>9.0</td>\n",
       "      <td>111.0</td>\n",
       "      <td>5000.0</td>\n",
       "      <td>21</td>\n",
       "      <td>27</td>\n",
       "      <td>16500.0</td>\n",
       "    </tr>\n",
       "    <tr>\n",
       "      <th>2</th>\n",
       "      <td>NaN</td>\n",
       "      <td>94.5</td>\n",
       "      <td>171.2</td>\n",
       "      <td>65.5</td>\n",
       "      <td>52.4</td>\n",
       "      <td>2823</td>\n",
       "      <td>152</td>\n",
       "      <td>2.68</td>\n",
       "      <td>3.47</td>\n",
       "      <td>9.0</td>\n",
       "      <td>154.0</td>\n",
       "      <td>5000.0</td>\n",
       "      <td>19</td>\n",
       "      <td>26</td>\n",
       "      <td>16500.0</td>\n",
       "    </tr>\n",
       "    <tr>\n",
       "      <th>3</th>\n",
       "      <td>164.0</td>\n",
       "      <td>99.8</td>\n",
       "      <td>176.6</td>\n",
       "      <td>66.2</td>\n",
       "      <td>54.3</td>\n",
       "      <td>2337</td>\n",
       "      <td>109</td>\n",
       "      <td>3.19</td>\n",
       "      <td>3.40</td>\n",
       "      <td>10.0</td>\n",
       "      <td>102.0</td>\n",
       "      <td>5500.0</td>\n",
       "      <td>24</td>\n",
       "      <td>30</td>\n",
       "      <td>13950.0</td>\n",
       "    </tr>\n",
       "    <tr>\n",
       "      <th>4</th>\n",
       "      <td>164.0</td>\n",
       "      <td>99.4</td>\n",
       "      <td>176.6</td>\n",
       "      <td>66.4</td>\n",
       "      <td>54.3</td>\n",
       "      <td>2824</td>\n",
       "      <td>136</td>\n",
       "      <td>3.19</td>\n",
       "      <td>3.40</td>\n",
       "      <td>8.0</td>\n",
       "      <td>115.0</td>\n",
       "      <td>5500.0</td>\n",
       "      <td>18</td>\n",
       "      <td>22</td>\n",
       "      <td>17450.0</td>\n",
       "    </tr>\n",
       "    <tr>\n",
       "      <th>...</th>\n",
       "      <td>...</td>\n",
       "      <td>...</td>\n",
       "      <td>...</td>\n",
       "      <td>...</td>\n",
       "      <td>...</td>\n",
       "      <td>...</td>\n",
       "      <td>...</td>\n",
       "      <td>...</td>\n",
       "      <td>...</td>\n",
       "      <td>...</td>\n",
       "      <td>...</td>\n",
       "      <td>...</td>\n",
       "      <td>...</td>\n",
       "      <td>...</td>\n",
       "      <td>...</td>\n",
       "    </tr>\n",
       "    <tr>\n",
       "      <th>200</th>\n",
       "      <td>95.0</td>\n",
       "      <td>109.1</td>\n",
       "      <td>188.8</td>\n",
       "      <td>68.9</td>\n",
       "      <td>55.5</td>\n",
       "      <td>2952</td>\n",
       "      <td>141</td>\n",
       "      <td>3.78</td>\n",
       "      <td>3.15</td>\n",
       "      <td>9.5</td>\n",
       "      <td>114.0</td>\n",
       "      <td>5400.0</td>\n",
       "      <td>23</td>\n",
       "      <td>28</td>\n",
       "      <td>16845.0</td>\n",
       "    </tr>\n",
       "    <tr>\n",
       "      <th>201</th>\n",
       "      <td>95.0</td>\n",
       "      <td>109.1</td>\n",
       "      <td>188.8</td>\n",
       "      <td>68.8</td>\n",
       "      <td>55.5</td>\n",
       "      <td>3049</td>\n",
       "      <td>141</td>\n",
       "      <td>3.78</td>\n",
       "      <td>3.15</td>\n",
       "      <td>8.7</td>\n",
       "      <td>160.0</td>\n",
       "      <td>5300.0</td>\n",
       "      <td>19</td>\n",
       "      <td>25</td>\n",
       "      <td>19045.0</td>\n",
       "    </tr>\n",
       "    <tr>\n",
       "      <th>202</th>\n",
       "      <td>95.0</td>\n",
       "      <td>109.1</td>\n",
       "      <td>188.8</td>\n",
       "      <td>68.9</td>\n",
       "      <td>55.5</td>\n",
       "      <td>3012</td>\n",
       "      <td>173</td>\n",
       "      <td>3.58</td>\n",
       "      <td>2.87</td>\n",
       "      <td>8.8</td>\n",
       "      <td>134.0</td>\n",
       "      <td>5500.0</td>\n",
       "      <td>18</td>\n",
       "      <td>23</td>\n",
       "      <td>21485.0</td>\n",
       "    </tr>\n",
       "    <tr>\n",
       "      <th>203</th>\n",
       "      <td>95.0</td>\n",
       "      <td>109.1</td>\n",
       "      <td>188.8</td>\n",
       "      <td>68.9</td>\n",
       "      <td>55.5</td>\n",
       "      <td>3217</td>\n",
       "      <td>145</td>\n",
       "      <td>3.01</td>\n",
       "      <td>3.40</td>\n",
       "      <td>23.0</td>\n",
       "      <td>106.0</td>\n",
       "      <td>4800.0</td>\n",
       "      <td>26</td>\n",
       "      <td>27</td>\n",
       "      <td>22470.0</td>\n",
       "    </tr>\n",
       "    <tr>\n",
       "      <th>204</th>\n",
       "      <td>95.0</td>\n",
       "      <td>109.1</td>\n",
       "      <td>188.8</td>\n",
       "      <td>68.9</td>\n",
       "      <td>55.5</td>\n",
       "      <td>3062</td>\n",
       "      <td>141</td>\n",
       "      <td>3.78</td>\n",
       "      <td>3.15</td>\n",
       "      <td>9.5</td>\n",
       "      <td>114.0</td>\n",
       "      <td>5400.0</td>\n",
       "      <td>19</td>\n",
       "      <td>25</td>\n",
       "      <td>22625.0</td>\n",
       "    </tr>\n",
       "  </tbody>\n",
       "</table>\n",
       "<p>205 rows × 15 columns</p>\n",
       "</div>"
      ],
      "text/plain": [
       "     normalized-losses  wheel-base  length  width  height  curb-weight  \\\n",
       "0                  NaN        88.6   168.8   64.1    48.8         2548   \n",
       "1                  NaN        88.6   168.8   64.1    48.8         2548   \n",
       "2                  NaN        94.5   171.2   65.5    52.4         2823   \n",
       "3                164.0        99.8   176.6   66.2    54.3         2337   \n",
       "4                164.0        99.4   176.6   66.4    54.3         2824   \n",
       "..                 ...         ...     ...    ...     ...          ...   \n",
       "200               95.0       109.1   188.8   68.9    55.5         2952   \n",
       "201               95.0       109.1   188.8   68.8    55.5         3049   \n",
       "202               95.0       109.1   188.8   68.9    55.5         3012   \n",
       "203               95.0       109.1   188.8   68.9    55.5         3217   \n",
       "204               95.0       109.1   188.8   68.9    55.5         3062   \n",
       "\n",
       "     engine-size  bore  stroke  compression-ratio  horsepower  peak-rpm  \\\n",
       "0            130  3.47    2.68                9.0       111.0    5000.0   \n",
       "1            130  3.47    2.68                9.0       111.0    5000.0   \n",
       "2            152  2.68    3.47                9.0       154.0    5000.0   \n",
       "3            109  3.19    3.40               10.0       102.0    5500.0   \n",
       "4            136  3.19    3.40                8.0       115.0    5500.0   \n",
       "..           ...   ...     ...                ...         ...       ...   \n",
       "200          141  3.78    3.15                9.5       114.0    5400.0   \n",
       "201          141  3.78    3.15                8.7       160.0    5300.0   \n",
       "202          173  3.58    2.87                8.8       134.0    5500.0   \n",
       "203          145  3.01    3.40               23.0       106.0    4800.0   \n",
       "204          141  3.78    3.15                9.5       114.0    5400.0   \n",
       "\n",
       "     city-mpg  highway-mpg    price  \n",
       "0          21           27  13495.0  \n",
       "1          21           27  16500.0  \n",
       "2          19           26  16500.0  \n",
       "3          24           30  13950.0  \n",
       "4          18           22  17450.0  \n",
       "..        ...          ...      ...  \n",
       "200        23           28  16845.0  \n",
       "201        19           25  19045.0  \n",
       "202        18           23  21485.0  \n",
       "203        26           27  22470.0  \n",
       "204        19           25  22625.0  \n",
       "\n",
       "[205 rows x 15 columns]"
      ]
     },
     "execution_count": 20,
     "metadata": {},
     "output_type": "execute_result"
    }
   ],
   "source": [
    "cars_model_continuous_data = cars[cars_model_continuous_attributes].copy()\n",
    "cars_model_continuous_data"
   ]
  },
  {
   "cell_type": "markdown",
   "metadata": {},
   "source": [
    "## Handling missing values"
   ]
  },
  {
   "cell_type": "code",
   "execution_count": 21,
   "metadata": {},
   "outputs": [
    {
     "data": {
      "text/plain": [
       "normalized-losses    41\n",
       "wheel-base            0\n",
       "length                0\n",
       "width                 0\n",
       "height                0\n",
       "curb-weight           0\n",
       "engine-size           0\n",
       "bore                  4\n",
       "stroke                4\n",
       "compression-ratio     0\n",
       "horsepower            2\n",
       "peak-rpm              2\n",
       "city-mpg              0\n",
       "highway-mpg           0\n",
       "price                 4\n",
       "dtype: int64"
      ]
     },
     "execution_count": 21,
     "metadata": {},
     "output_type": "execute_result"
    }
   ],
   "source": [
    "cars_model_continuous_data.isnull().sum()"
   ]
  },
  {
   "cell_type": "markdown",
   "metadata": {},
   "source": [
    "### Handling missing values for `price` column"
   ]
  },
  {
   "cell_type": "markdown",
   "metadata": {},
   "source": [
    "Since the `price` column is the attribute that we want to estimate, lets drop those rows for which the price is not available."
   ]
  },
  {
   "cell_type": "code",
   "execution_count": 22,
   "metadata": {},
   "outputs": [
    {
     "data": {
      "text/plain": [
       "normalized-losses    37\n",
       "wheel-base            0\n",
       "length                0\n",
       "width                 0\n",
       "height                0\n",
       "curb-weight           0\n",
       "engine-size           0\n",
       "bore                  4\n",
       "stroke                4\n",
       "compression-ratio     0\n",
       "horsepower            2\n",
       "peak-rpm              2\n",
       "city-mpg              0\n",
       "highway-mpg           0\n",
       "price                 0\n",
       "dtype: int64"
      ]
     },
     "execution_count": 22,
     "metadata": {},
     "output_type": "execute_result"
    }
   ],
   "source": [
    "cars_model_continuous_data.dropna(subset=['price'],inplace=True)\n",
    "cars_model_continuous_data.reset_index(drop=True,inplace=True)\n",
    "cars_model_continuous_data.isnull().sum()"
   ]
  },
  {
   "cell_type": "markdown",
   "metadata": {},
   "source": [
    "### Handling missing values for the `normalized-losses` column"
   ]
  },
  {
   "cell_type": "code",
   "execution_count": 23,
   "metadata": {},
   "outputs": [
    {
     "data": {
      "text/plain": [
       "18.407960199004975"
      ]
     },
     "execution_count": 23,
     "metadata": {},
     "output_type": "execute_result"
    }
   ],
   "source": [
    "cars_model_continuous_data.isnull().sum()['normalized-losses']/cars_model_continuous_data.shape[0]*100"
   ]
  },
  {
   "cell_type": "markdown",
   "metadata": {},
   "source": [
    "About 18% percent of the values are not available for the column. This is a large value and so dropping these many number of rows might not be the best idea. Let's dive deeper."
   ]
  },
  {
   "cell_type": "code",
   "execution_count": 24,
   "metadata": {
    "scrolled": true
   },
   "outputs": [
    {
     "data": {
      "text/plain": [
       "count    164.000000\n",
       "mean     122.000000\n",
       "std       35.442168\n",
       "min       65.000000\n",
       "25%       94.000000\n",
       "50%      115.000000\n",
       "75%      150.000000\n",
       "max      256.000000\n",
       "Name: normalized-losses, dtype: float64"
      ]
     },
     "execution_count": 24,
     "metadata": {},
     "output_type": "execute_result"
    }
   ],
   "source": [
    "cars_model_continuous_data['normalized-losses'].describe()"
   ]
  },
  {
   "cell_type": "code",
   "execution_count": 25,
   "metadata": {},
   "outputs": [
    {
     "data": {
      "text/plain": [
       "(array([17., 46., 31., 20., 21., 18.,  9.,  0.,  1.,  1.]),\n",
       " array([ 65. ,  84.1, 103.2, 122.3, 141.4, 160.5, 179.6, 198.7, 217.8,\n",
       "        236.9, 256. ]),\n",
       " <BarContainer object of 10 artists>)"
      ]
     },
     "execution_count": 25,
     "metadata": {},
     "output_type": "execute_result"
    },
    {
     "data": {
      "image/png": "[encoded data removed]",
      "text/plain": [
       "<Figure size 432x288 with 1 Axes>"
      ]
     },
     "metadata": {
      "needs_background": "light"
     },
     "output_type": "display_data"
    }
   ],
   "source": [
    "plt.hist(cars_model_continuous_data['normalized-losses'])"
   ]
  },
  {
   "cell_type": "markdown",
   "metadata": {},
   "source": [
    "Observations:-\n",
    "1. The average value seems to be a good option for filling in the missing values in the column. \n",
    "2. Also, since loss is an important factor in determining prices, dropping the column would increase bias (i.e model could be inaccurate as there is no distinguishing between when the car was bought; this is a huge omission and practically it makes little sense to drop a column that plays a huge role in determining current car prices)"
   ]
  },
  {
   "cell_type": "markdown",
   "metadata": {},
   "source": [
    "### Handling missing values for the `bore` column"
   ]
  },
  {
   "cell_type": "code",
   "execution_count": 26,
   "metadata": {},
   "outputs": [
    {
     "data": {
      "text/plain": [
       "count    197.000000\n",
       "mean       3.330711\n",
       "std        0.270793\n",
       "min        2.540000\n",
       "25%        3.150000\n",
       "50%        3.310000\n",
       "75%        3.590000\n",
       "max        3.940000\n",
       "Name: bore, dtype: float64"
      ]
     },
     "execution_count": 26,
     "metadata": {},
     "output_type": "execute_result"
    }
   ],
   "source": [
    "cars_model_continuous_data['bore'].describe()"
   ]
  },
  {
   "cell_type": "code",
   "execution_count": 27,
   "metadata": {},
   "outputs": [
    {
     "data": {
      "text/plain": [
       "(array([ 1.,  1.,  8., 35., 39., 24., 27., 42., 17.,  3.]),\n",
       " array([2.54, 2.68, 2.82, 2.96, 3.1 , 3.24, 3.38, 3.52, 3.66, 3.8 , 3.94]),\n",
       " <BarContainer object of 10 artists>)"
      ]
     },
     "execution_count": 27,
     "metadata": {},
     "output_type": "execute_result"
    },
    {
     "data": {
      "image/png": "[encoded data removed]",
      "text/plain": [
       "<Figure size 432x288 with 1 Axes>"
      ]
     },
     "metadata": {
      "needs_background": "light"
     },
     "output_type": "display_data"
    }
   ],
   "source": [
    "plt.hist(cars_model_continuous_data['bore'])"
   ]
  },
  {
   "cell_type": "markdown",
   "metadata": {},
   "source": [
    "Observations:-\n",
    "1. Majority of the values(75%) in the column are bunched up between 3.15 and 3.94, which is about the mean(Note that the standard deviation is pretty less). So the mean seems to be a good estimate for the missing data."
   ]
  },
  {
   "cell_type": "markdown",
   "metadata": {},
   "source": [
    "### Handling missing values for `stroke` column"
   ]
  },
  {
   "cell_type": "code",
   "execution_count": 28,
   "metadata": {},
   "outputs": [
    {
     "data": {
      "text/plain": [
       "count    197.000000\n",
       "mean       3.256904\n",
       "std        0.319256\n",
       "min        2.070000\n",
       "25%        3.110000\n",
       "50%        3.290000\n",
       "75%        3.410000\n",
       "max        4.170000\n",
       "Name: stroke, dtype: float64"
      ]
     },
     "execution_count": 28,
     "metadata": {},
     "output_type": "execute_result"
    }
   ],
   "source": [
    "cars_model_continuous_data['stroke'].describe()"
   ]
  },
  {
   "cell_type": "code",
   "execution_count": 29,
   "metadata": {},
   "outputs": [
    {
     "data": {
      "text/plain": [
       "(array([ 3.,  1., 13.,  7., 27., 52., 70., 15.,  7.,  2.]),\n",
       " array([2.07, 2.28, 2.49, 2.7 , 2.91, 3.12, 3.33, 3.54, 3.75, 3.96, 4.17]),\n",
       " <BarContainer object of 10 artists>)"
      ]
     },
     "execution_count": 29,
     "metadata": {},
     "output_type": "execute_result"
    },
    {
     "data": {
      "image/png": "[encoded data removed]",
      "text/plain": [
       "<Figure size 432x288 with 1 Axes>"
      ]
     },
     "metadata": {
      "needs_background": "light"
     },
     "output_type": "display_data"
    }
   ],
   "source": [
    "plt.hist(cars_model_continuous_data['stroke'])"
   ]
  },
  {
   "cell_type": "markdown",
   "metadata": {},
   "source": [
    "Observations:-\n",
    "1. Majority of the values are clustered in the range of 3.0 to 3.5, in the middle of which the mean lies. Given that most values cluster about the mean, this is a representative value for the entire distribution of car strokes. So, mean should ideally be a good substitute for missing values."
   ]
  },
  {
   "cell_type": "markdown",
   "metadata": {},
   "source": [
    "### Handling missing values for `horsepower` column"
   ]
  },
  {
   "cell_type": "code",
   "execution_count": 30,
   "metadata": {},
   "outputs": [
    {
     "data": {
      "text/plain": [
       "count    199.000000\n",
       "mean     103.396985\n",
       "std       37.553843\n",
       "min       48.000000\n",
       "25%       70.000000\n",
       "50%       95.000000\n",
       "75%      116.000000\n",
       "max      262.000000\n",
       "Name: horsepower, dtype: float64"
      ]
     },
     "execution_count": 30,
     "metadata": {},
     "output_type": "execute_result"
    }
   ],
   "source": [
    "cars_model_continuous_data['horsepower'].describe()"
   ]
  },
  {
   "cell_type": "code",
   "execution_count": 31,
   "metadata": {},
   "outputs": [
    {
     "data": {
      "text/plain": [
       "(array([44., 45., 46., 24., 14., 16.,  5.,  4.,  0.,  1.]),\n",
       " array([ 48. ,  69.4,  90.8, 112.2, 133.6, 155. , 176.4, 197.8, 219.2,\n",
       "        240.6, 262. ]),\n",
       " <BarContainer object of 10 artists>)"
      ]
     },
     "execution_count": 31,
     "metadata": {},
     "output_type": "execute_result"
    },
    {
     "data": {
      "image/png": "[encoded data removed]",
      "text/plain": [
       "<Figure size 432x288 with 1 Axes>"
      ]
     },
     "metadata": {
      "needs_background": "light"
     },
     "output_type": "display_data"
    }
   ],
   "source": [
    "plt.hist(cars_model_continuous_data['horsepower'])"
   ]
  },
  {
   "cell_type": "markdown",
   "metadata": {},
   "source": [
    "Observations:-\n",
    "1. In this right skewed distribution, most values lie towards the start of the range of values, which is where the mean lies. So mean horsepower value should serve as a reliable estimate for the 2 missing values."
   ]
  },
  {
   "cell_type": "markdown",
   "metadata": {},
   "source": [
    "### Handling missing values for `peak-rpm` column"
   ]
  },
  {
   "cell_type": "code",
   "execution_count": 32,
   "metadata": {},
   "outputs": [
    {
     "data": {
      "text/plain": [
       "count     199.000000\n",
       "mean     5117.587940\n",
       "std       480.521824\n",
       "min      4150.000000\n",
       "25%      4800.000000\n",
       "50%      5200.000000\n",
       "75%      5500.000000\n",
       "max      6600.000000\n",
       "Name: peak-rpm, dtype: float64"
      ]
     },
     "execution_count": 32,
     "metadata": {},
     "output_type": "execute_result"
    }
   ],
   "source": [
    "cars_model_continuous_data['peak-rpm'].describe()"
   ]
  },
  {
   "cell_type": "code",
   "execution_count": 33,
   "metadata": {},
   "outputs": [
    {
     "data": {
      "text/plain": [
       "(array([17., 10., 41., 31., 31., 48.,  7., 12.,  0.,  2.]),\n",
       " array([4150., 4395., 4640., 4885., 5130., 5375., 5620., 5865., 6110.,\n",
       "        6355., 6600.]),\n",
       " <BarContainer object of 10 artists>)"
      ]
     },
     "execution_count": 33,
     "metadata": {},
     "output_type": "execute_result"
    },
    {
     "data": {
      "image/png": "[encoded data removed]",
      "text/plain": [
       "<Figure size 432x288 with 1 Axes>"
      ]
     },
     "metadata": {
      "needs_background": "light"
     },
     "output_type": "display_data"
    }
   ],
   "source": [
    "plt.hist(cars_model_continuous_data['peak-rpm'])"
   ]
  },
  {
   "cell_type": "markdown",
   "metadata": {},
   "source": [
    "Observations:-\n",
    "1. The mean should be a good estimate for the missing peak-rpm values of 2 observations in the dataset."
   ]
  },
  {
   "cell_type": "markdown",
   "metadata": {},
   "source": [
    "### Removing missing values from the feature columns"
   ]
  },
  {
   "cell_type": "code",
   "execution_count": 34,
   "metadata": {},
   "outputs": [],
   "source": [
    "cars_model_continuous_data = cars_model_continuous_data.fillna(cars_model_continuous_data.mean())"
   ]
  },
  {
   "cell_type": "code",
   "execution_count": 35,
   "metadata": {
    "scrolled": true
   },
   "outputs": [
    {
     "data": {
      "text/plain": [
       "normalized-losses    0\n",
       "wheel-base           0\n",
       "length               0\n",
       "width                0\n",
       "height               0\n",
       "curb-weight          0\n",
       "engine-size          0\n",
       "bore                 0\n",
       "stroke               0\n",
       "compression-ratio    0\n",
       "horsepower           0\n",
       "peak-rpm             0\n",
       "city-mpg             0\n",
       "highway-mpg          0\n",
       "price                0\n",
       "dtype: int64"
      ]
     },
     "execution_count": 35,
     "metadata": {},
     "output_type": "execute_result"
    }
   ],
   "source": [
    "cars_model_continuous_data.isnull().sum()"
   ]
  },
  {
   "cell_type": "markdown",
   "metadata": {},
   "source": [
    "## Normalizing the numeric columns"
   ]
  },
  {
   "cell_type": "markdown",
   "metadata": {},
   "source": [
    "Normalizing all the numeric columns except the target column (i.e. `price`) so that all values range from 0 to 1."
   ]
  },
  {
   "cell_type": "code",
   "execution_count": 36,
   "metadata": {},
   "outputs": [],
   "source": [
    "car_market_prices = cars_model_continuous_data['price'].copy()\n",
    "\n",
    "normalized_car_model_data = ((cars_model_continuous_data - cars_model_continuous_data.min())/(cars_model_continuous_data.max() - cars_model_continuous_data.min())).copy()\n",
    "\n",
    "normalized_car_model_data['price'] = car_market_prices"
   ]
  },
  {
   "cell_type": "markdown",
   "metadata": {},
   "source": [
    "# k-nearest neighbors model features, target column, model data, and train/test sets sizes"
   ]
  },
  {
   "cell_type": "markdown",
   "metadata": {},
   "source": [
    "## Model target column"
   ]
  },
  {
   "cell_type": "code",
   "execution_count": 37,
   "metadata": {},
   "outputs": [],
   "source": [
    "target_column = 'price'"
   ]
  },
  {
   "cell_type": "markdown",
   "metadata": {},
   "source": [
    "## Model features"
   ]
  },
  {
   "cell_type": "code",
   "execution_count": 38,
   "metadata": {},
   "outputs": [
    {
     "data": {
      "text/plain": [
       "['normalized-losses',\n",
       " 'wheel-base',\n",
       " 'length',\n",
       " 'width',\n",
       " 'height',\n",
       " 'curb-weight',\n",
       " 'engine-size',\n",
       " 'bore',\n",
       " 'stroke',\n",
       " 'compression-ratio',\n",
       " 'horsepower',\n",
       " 'peak-rpm',\n",
       " 'city-mpg',\n",
       " 'highway-mpg']"
      ]
     },
     "execution_count": 38,
     "metadata": {},
     "output_type": "execute_result"
    }
   ],
   "source": [
    "features = [col for col in normalized_car_model_data.columns if col != target_column]\n",
    "features"
   ]
  },
  {
   "cell_type": "markdown",
   "metadata": {},
   "source": [
    "## Model data"
   ]
  },
  {
   "cell_type": "code",
   "execution_count": 39,
   "metadata": {},
   "outputs": [],
   "source": [
    "# randomizing the ordering of observations in the dataset to remove the bias originating from original ordering of dataset rows\n",
    "\n",
    "np.random.seed(1) # to generate reproducible and consistent results\n",
    "rn_car_model_data = normalized_car_model_data.reindex(index=np.random.permutation(normalized_car_model_data.shape[0]))"
   ]
  },
  {
   "cell_type": "markdown",
   "metadata": {},
   "source": [
    "## Train/test split sizes"
   ]
  },
  {
   "cell_type": "code",
   "execution_count": 40,
   "metadata": {},
   "outputs": [
    {
     "name": "stdout",
     "output_type": "stream",
     "text": [
      "100 101\n"
     ]
    }
   ],
   "source": [
    "train_set_size = round(rn_car_model_data.shape[0]*0.5)\n",
    "test_set_size = rn_car_model_data.shape[0] - train_set_size\n",
    "print(train_set_size,test_set_size)"
   ]
  },
  {
   "cell_type": "markdown",
   "metadata": {},
   "source": [
    "# Univariate Model "
   ]
  },
  {
   "cell_type": "markdown",
   "metadata": {},
   "source": [
    "Let's start with some univariate k-nearest neighbors models. Starting with simple models before moving to more complex models helps us structure our code workflow and understand the features better."
   ]
  },
  {
   "cell_type": "markdown",
   "metadata": {},
   "source": [
    "## Preparing the univariate features"
   ]
  },
  {
   "cell_type": "code",
   "execution_count": 41,
   "metadata": {
    "scrolled": true
   },
   "outputs": [
    {
     "data": {
      "text/plain": [
       "[['normalized-losses'],\n",
       " ['wheel-base'],\n",
       " ['length'],\n",
       " ['width'],\n",
       " ['height'],\n",
       " ['curb-weight'],\n",
       " ['engine-size'],\n",
       " ['bore'],\n",
       " ['stroke'],\n",
       " ['compression-ratio'],\n",
       " ['horsepower'],\n",
       " ['peak-rpm'],\n",
       " ['city-mpg'],\n",
       " ['highway-mpg']]"
      ]
     },
     "execution_count": 41,
     "metadata": {},
     "output_type": "execute_result"
    }
   ],
   "source": [
    "univariate_model_features = [[feature] for feature in features]\n",
    "univariate_model_features"
   ]
  },
  {
   "cell_type": "markdown",
   "metadata": {},
   "source": [
    "## Univariate knn model data"
   ]
  },
  {
   "cell_type": "code",
   "execution_count": 42,
   "metadata": {},
   "outputs": [
    {
     "data": {
      "text/html": [
       "<div>\n",
       "<style scoped>\n",
       "    .dataframe tbody tr th:only-of-type {\n",
       "        vertical-align: middle;\n",
       "    }\n",
       "\n",
       "    .dataframe tbody tr th {\n",
       "        vertical-align: top;\n",
       "    }\n",
       "\n",
       "    .dataframe thead th {\n",
       "        text-align: right;\n",
       "    }\n",
       "</style>\n",
       "<table border=\"1\" class=\"dataframe\">\n",
       "  <thead>\n",
       "    <tr style=\"text-align: right;\">\n",
       "      <th></th>\n",
       "      <th>normalized-losses</th>\n",
       "      <th>wheel-base</th>\n",
       "      <th>length</th>\n",
       "      <th>width</th>\n",
       "      <th>height</th>\n",
       "      <th>curb-weight</th>\n",
       "      <th>engine-size</th>\n",
       "      <th>bore</th>\n",
       "      <th>stroke</th>\n",
       "      <th>compression-ratio</th>\n",
       "      <th>horsepower</th>\n",
       "      <th>peak-rpm</th>\n",
       "      <th>city-mpg</th>\n",
       "      <th>highway-mpg</th>\n",
       "      <th>price</th>\n",
       "    </tr>\n",
       "  </thead>\n",
       "  <tbody>\n",
       "    <tr>\n",
       "      <th>97</th>\n",
       "      <td>0.214660</td>\n",
       "      <td>0.309038</td>\n",
       "      <td>0.482090</td>\n",
       "      <td>0.418803</td>\n",
       "      <td>0.575000</td>\n",
       "      <td>0.315749</td>\n",
       "      <td>0.222642</td>\n",
       "      <td>0.564286</td>\n",
       "      <td>0.666667</td>\n",
       "      <td>0.09375</td>\n",
       "      <td>0.228972</td>\n",
       "      <td>0.428571</td>\n",
       "      <td>0.388889</td>\n",
       "      <td>0.473684</td>\n",
       "      <td>9549.0</td>\n",
       "    </tr>\n",
       "    <tr>\n",
       "      <th>117</th>\n",
       "      <td>0.465969</td>\n",
       "      <td>0.206997</td>\n",
       "      <td>0.241791</td>\n",
       "      <td>0.299145</td>\n",
       "      <td>0.233333</td>\n",
       "      <td>0.185803</td>\n",
       "      <td>0.109434</td>\n",
       "      <td>0.307143</td>\n",
       "      <td>0.552381</td>\n",
       "      <td>0.15000</td>\n",
       "      <td>0.093458</td>\n",
       "      <td>0.551020</td>\n",
       "      <td>0.500000</td>\n",
       "      <td>0.578947</td>\n",
       "      <td>6229.0</td>\n",
       "    </tr>\n",
       "    <tr>\n",
       "      <th>59</th>\n",
       "      <td>0.261780</td>\n",
       "      <td>0.355685</td>\n",
       "      <td>0.547761</td>\n",
       "      <td>0.529915</td>\n",
       "      <td>0.641667</td>\n",
       "      <td>0.357642</td>\n",
       "      <td>0.230189</td>\n",
       "      <td>0.607143</td>\n",
       "      <td>0.628571</td>\n",
       "      <td>0.10000</td>\n",
       "      <td>0.168224</td>\n",
       "      <td>0.265306</td>\n",
       "      <td>0.361111</td>\n",
       "      <td>0.421053</td>\n",
       "      <td>10245.0</td>\n",
       "    </tr>\n",
       "    <tr>\n",
       "      <th>35</th>\n",
       "      <td>0.068063</td>\n",
       "      <td>0.288630</td>\n",
       "      <td>0.238806</td>\n",
       "      <td>0.307692</td>\n",
       "      <td>0.875000</td>\n",
       "      <td>0.207913</td>\n",
       "      <td>0.116981</td>\n",
       "      <td>0.271429</td>\n",
       "      <td>0.638095</td>\n",
       "      <td>0.13750</td>\n",
       "      <td>0.130841</td>\n",
       "      <td>0.755102</td>\n",
       "      <td>0.472222</td>\n",
       "      <td>0.473684</td>\n",
       "      <td>7295.0</td>\n",
       "    </tr>\n",
       "    <tr>\n",
       "      <th>165</th>\n",
       "      <td>0.361257</td>\n",
       "      <td>0.344023</td>\n",
       "      <td>0.523881</td>\n",
       "      <td>0.452991</td>\n",
       "      <td>0.350000</td>\n",
       "      <td>0.412335</td>\n",
       "      <td>0.320755</td>\n",
       "      <td>0.771429</td>\n",
       "      <td>0.680952</td>\n",
       "      <td>0.14375</td>\n",
       "      <td>0.317757</td>\n",
       "      <td>0.265306</td>\n",
       "      <td>0.305556</td>\n",
       "      <td>0.368421</td>\n",
       "      <td>9989.0</td>\n",
       "    </tr>\n",
       "    <tr>\n",
       "      <th>...</th>\n",
       "      <td>...</td>\n",
       "      <td>...</td>\n",
       "      <td>...</td>\n",
       "      <td>...</td>\n",
       "      <td>...</td>\n",
       "      <td>...</td>\n",
       "      <td>...</td>\n",
       "      <td>...</td>\n",
       "      <td>...</td>\n",
       "      <td>...</td>\n",
       "      <td>...</td>\n",
       "      <td>...</td>\n",
       "      <td>...</td>\n",
       "      <td>...</td>\n",
       "      <td>...</td>\n",
       "    </tr>\n",
       "    <tr>\n",
       "      <th>133</th>\n",
       "      <td>0.204188</td>\n",
       "      <td>0.364431</td>\n",
       "      <td>0.679104</td>\n",
       "      <td>0.529915</td>\n",
       "      <td>0.691667</td>\n",
       "      <td>0.527153</td>\n",
       "      <td>0.226415</td>\n",
       "      <td>0.714286</td>\n",
       "      <td>0.476190</td>\n",
       "      <td>0.12500</td>\n",
       "      <td>0.523364</td>\n",
       "      <td>0.551020</td>\n",
       "      <td>0.166667</td>\n",
       "      <td>0.263158</td>\n",
       "      <td>18620.0</td>\n",
       "    </tr>\n",
       "    <tr>\n",
       "      <th>137</th>\n",
       "      <td>0.193717</td>\n",
       "      <td>0.309038</td>\n",
       "      <td>0.461194</td>\n",
       "      <td>0.435897</td>\n",
       "      <td>0.391667</td>\n",
       "      <td>0.254849</td>\n",
       "      <td>0.177358</td>\n",
       "      <td>0.771429</td>\n",
       "      <td>0.271429</td>\n",
       "      <td>0.15625</td>\n",
       "      <td>0.158879</td>\n",
       "      <td>0.265306</td>\n",
       "      <td>0.527778</td>\n",
       "      <td>0.552632</td>\n",
       "      <td>7126.0</td>\n",
       "    </tr>\n",
       "    <tr>\n",
       "      <th>72</th>\n",
       "      <td>0.298429</td>\n",
       "      <td>0.469388</td>\n",
       "      <td>0.556716</td>\n",
       "      <td>0.658120</td>\n",
       "      <td>0.583333</td>\n",
       "      <td>0.551590</td>\n",
       "      <td>0.298113</td>\n",
       "      <td>0.885714</td>\n",
       "      <td>0.500000</td>\n",
       "      <td>0.06250</td>\n",
       "      <td>0.593458</td>\n",
       "      <td>0.346939</td>\n",
       "      <td>0.166667</td>\n",
       "      <td>0.210526</td>\n",
       "      <td>16503.0</td>\n",
       "    </tr>\n",
       "    <tr>\n",
       "      <th>140</th>\n",
       "      <td>0.193717</td>\n",
       "      <td>0.303207</td>\n",
       "      <td>0.461194</td>\n",
       "      <td>0.435897</td>\n",
       "      <td>0.541667</td>\n",
       "      <td>0.347944</td>\n",
       "      <td>0.177358</td>\n",
       "      <td>0.771429</td>\n",
       "      <td>0.271429</td>\n",
       "      <td>0.12500</td>\n",
       "      <td>0.158879</td>\n",
       "      <td>0.265306</td>\n",
       "      <td>0.305556</td>\n",
       "      <td>0.236842</td>\n",
       "      <td>9233.0</td>\n",
       "    </tr>\n",
       "    <tr>\n",
       "      <th>37</th>\n",
       "      <td>0.214660</td>\n",
       "      <td>0.288630</td>\n",
       "      <td>0.394030</td>\n",
       "      <td>0.418803</td>\n",
       "      <td>0.458333</td>\n",
       "      <td>0.310706</td>\n",
       "      <td>0.184906</td>\n",
       "      <td>0.435714</td>\n",
       "      <td>0.719048</td>\n",
       "      <td>0.12500</td>\n",
       "      <td>0.177570</td>\n",
       "      <td>0.673469</td>\n",
       "      <td>0.388889</td>\n",
       "      <td>0.447368</td>\n",
       "      <td>9095.0</td>\n",
       "    </tr>\n",
       "  </tbody>\n",
       "</table>\n",
       "<p>201 rows × 15 columns</p>\n",
       "</div>"
      ],
      "text/plain": [
       "     normalized-losses  wheel-base    length     width    height  curb-weight  \\\n",
       "97            0.214660    0.309038  0.482090  0.418803  0.575000     0.315749   \n",
       "117           0.465969    0.206997  0.241791  0.299145  0.233333     0.185803   \n",
       "59            0.261780    0.355685  0.547761  0.529915  0.641667     0.357642   \n",
       "35            0.068063    0.288630  0.238806  0.307692  0.875000     0.207913   \n",
       "165           0.361257    0.344023  0.523881  0.452991  0.350000     0.412335   \n",
       "..                 ...         ...       ...       ...       ...          ...   \n",
       "133           0.204188    0.364431  0.679104  0.529915  0.691667     0.527153   \n",
       "137           0.193717    0.309038  0.461194  0.435897  0.391667     0.254849   \n",
       "72            0.298429    0.469388  0.556716  0.658120  0.583333     0.551590   \n",
       "140           0.193717    0.303207  0.461194  0.435897  0.541667     0.347944   \n",
       "37            0.214660    0.288630  0.394030  0.418803  0.458333     0.310706   \n",
       "\n",
       "     engine-size      bore    stroke  compression-ratio  horsepower  peak-rpm  \\\n",
       "97      0.222642  0.564286  0.666667            0.09375    0.228972  0.428571   \n",
       "117     0.109434  0.307143  0.552381            0.15000    0.093458  0.551020   \n",
       "59      0.230189  0.607143  0.628571            0.10000    0.168224  0.265306   \n",
       "35      0.116981  0.271429  0.638095            0.13750    0.130841  0.755102   \n",
       "165     0.320755  0.771429  0.680952            0.14375    0.317757  0.265306   \n",
       "..           ...       ...       ...                ...         ...       ...   \n",
       "133     0.226415  0.714286  0.476190            0.12500    0.523364  0.551020   \n",
       "137     0.177358  0.771429  0.271429            0.15625    0.158879  0.265306   \n",
       "72      0.298113  0.885714  0.500000            0.06250    0.593458  0.346939   \n",
       "140     0.177358  0.771429  0.271429            0.12500    0.158879  0.265306   \n",
       "37      0.184906  0.435714  0.719048            0.12500    0.177570  0.673469   \n",
       "\n",
       "     city-mpg  highway-mpg    price  \n",
       "97   0.388889     0.473684   9549.0  \n",
       "117  0.500000     0.578947   6229.0  \n",
       "59   0.361111     0.421053  10245.0  \n",
       "35   0.472222     0.473684   7295.0  \n",
       "165  0.305556     0.368421   9989.0  \n",
       "..        ...          ...      ...  \n",
       "133  0.166667     0.263158  18620.0  \n",
       "137  0.527778     0.552632   7126.0  \n",
       "72   0.166667     0.210526  16503.0  \n",
       "140  0.305556     0.236842   9233.0  \n",
       "37   0.388889     0.447368   9095.0  \n",
       "\n",
       "[201 rows x 15 columns]"
      ]
     },
     "execution_count": 42,
     "metadata": {},
     "output_type": "execute_result"
    }
   ],
   "source": [
    "univariate_rn_car_model_data = rn_car_model_data.copy()\n",
    "univariate_rn_car_model_data"
   ]
  },
  {
   "cell_type": "markdown",
   "metadata": {},
   "source": [
    "##  Function encapsulating the training and simple validation process(train-test validation technique)"
   ]
  },
  {
   "cell_type": "markdown",
   "metadata": {},
   "source": [
    "### Function performing the training, prediction and validation of model"
   ]
  },
  {
   "cell_type": "code",
   "execution_count": 43,
   "metadata": {},
   "outputs": [],
   "source": [
    "def knn_train_test(m_feature,target_column,model_data,number_of_neighbours=5):\n",
    "    train_set = model_data.iloc[0:train_set_size].copy()\n",
    "    test_set = model_data.iloc[train_set_size:].copy()\n",
    "    knn = KNeighborsRegressor(n_neighbors=number_of_neighbours)\n",
    "    knn.fit(train_set[m_feature],train_set[target_column])\n",
    "    test_set['predicted_price'] = knn.predict(test_set[m_feature])\n",
    "    model_rmse = np.sqrt(mean_squared_error(test_set[target_column],test_set['predicted_price']))\n",
    "    return model_rmse"
   ]
  },
  {
   "cell_type": "markdown",
   "metadata": {},
   "source": [
    "## Determining the feature that performed the best on the default k-value (default number of nearest neighbours)"
   ]
  },
  {
   "cell_type": "code",
   "execution_count": 44,
   "metadata": {},
   "outputs": [
    {
     "data": {
      "text/plain": [
       "engine-size          3238.462830\n",
       "horsepower           4037.037713\n",
       "curb-weight          4401.118255\n",
       "highway-mpg          4630.026799\n",
       "width                4704.482590\n",
       "city-mpg             4766.422505\n",
       "length               5427.200961\n",
       "wheel-base           5461.553998\n",
       "compression-ratio    6610.812153\n",
       "bore                 6780.627785\n",
       "normalized-losses    7330.197653\n",
       "peak-rpm             7697.459696\n",
       "stroke               8006.529545\n",
       "height               8144.441043\n",
       "dtype: float64"
      ]
     },
     "execution_count": 44,
     "metadata": {},
     "output_type": "execute_result"
    }
   ],
   "source": [
    "# quality of a model's predictions can be quantified in terms of error metric computed\n",
    "model_predictions_quality = list()\n",
    "for model_feature in univariate_model_features:\n",
    "    model_error_metric = knn_train_test(model_feature,target_column,univariate_rn_car_model_data)\n",
    "    model_predictions_quality.append(model_error_metric)\n",
    "\n",
    "feature_performance = pd.Series(data=model_predictions_quality,index=features)\n",
    "\n",
    "best_performing_features = feature_performance.sort_values()\n",
    "best_performing_features"
   ]
  },
  {
   "cell_type": "markdown",
   "metadata": {},
   "source": [
    "The `engine-size` feature performed the best using the default k-value for the knn model used."
   ]
  },
  {
   "cell_type": "markdown",
   "metadata": {},
   "source": [
    "## Determining and Visualizing each feature performance for different k-values using the univariate model"
   ]
  },
  {
   "cell_type": "code",
   "execution_count": 45,
   "metadata": {},
   "outputs": [],
   "source": [
    "# the different number of nearest neighbours to use for training, predicting and validating the univariate model\n",
    "k_values = [1,3,5,7,9]\n",
    "\n",
    "# dataframe containing each features performance on the univariate model for different number of nearest neighbours\n",
    "feature_performance_on_k_values = pd.DataFrame()"
   ]
  },
  {
   "cell_type": "markdown",
   "metadata": {},
   "source": [
    "### Determination of prediction quality for each feature on all specified k-values"
   ]
  },
  {
   "cell_type": "code",
   "execution_count": 46,
   "metadata": {},
   "outputs": [
    {
     "data": {
      "text/html": [
       "<div>\n",
       "<style scoped>\n",
       "    .dataframe tbody tr th:only-of-type {\n",
       "        vertical-align: middle;\n",
       "    }\n",
       "\n",
       "    .dataframe tbody tr th {\n",
       "        vertical-align: top;\n",
       "    }\n",
       "\n",
       "    .dataframe thead th {\n",
       "        text-align: right;\n",
       "    }\n",
       "</style>\n",
       "<table border=\"1\" class=\"dataframe\">\n",
       "  <thead>\n",
       "    <tr style=\"text-align: right;\">\n",
       "      <th></th>\n",
       "      <th>normalized-losses</th>\n",
       "      <th>wheel-base</th>\n",
       "      <th>length</th>\n",
       "      <th>width</th>\n",
       "      <th>height</th>\n",
       "      <th>curb-weight</th>\n",
       "      <th>engine-size</th>\n",
       "      <th>bore</th>\n",
       "      <th>stroke</th>\n",
       "      <th>compression-ratio</th>\n",
       "      <th>horsepower</th>\n",
       "      <th>peak-rpm</th>\n",
       "      <th>city-mpg</th>\n",
       "      <th>highway-mpg</th>\n",
       "    </tr>\n",
       "  </thead>\n",
       "  <tbody>\n",
       "    <tr>\n",
       "      <th>1</th>\n",
       "      <td>7846.750605</td>\n",
       "      <td>4493.734069</td>\n",
       "      <td>4628.455501</td>\n",
       "      <td>4559.257298</td>\n",
       "      <td>8904.046456</td>\n",
       "      <td>5264.290231</td>\n",
       "      <td>3258.486106</td>\n",
       "      <td>8602.588485</td>\n",
       "      <td>9116.495955</td>\n",
       "      <td>8087.205347</td>\n",
       "      <td>4170.054848</td>\n",
       "      <td>9511.480068</td>\n",
       "      <td>5901.143574</td>\n",
       "      <td>6025.594967</td>\n",
       "    </tr>\n",
       "    <tr>\n",
       "      <th>3</th>\n",
       "      <td>7500.569812</td>\n",
       "      <td>5120.161506</td>\n",
       "      <td>5129.835821</td>\n",
       "      <td>4606.413692</td>\n",
       "      <td>8277.609643</td>\n",
       "      <td>5022.318012</td>\n",
       "      <td>2840.562806</td>\n",
       "      <td>6984.239489</td>\n",
       "      <td>7338.684670</td>\n",
       "      <td>7375.063686</td>\n",
       "      <td>4020.849263</td>\n",
       "      <td>8537.550900</td>\n",
       "      <td>4646.746409</td>\n",
       "      <td>4617.305020</td>\n",
       "    </tr>\n",
       "    <tr>\n",
       "      <th>5</th>\n",
       "      <td>7330.197653</td>\n",
       "      <td>5461.553998</td>\n",
       "      <td>5427.200961</td>\n",
       "      <td>4704.482590</td>\n",
       "      <td>8144.441043</td>\n",
       "      <td>4401.118255</td>\n",
       "      <td>3238.462830</td>\n",
       "      <td>6780.627785</td>\n",
       "      <td>8006.529545</td>\n",
       "      <td>6610.812153</td>\n",
       "      <td>4037.037713</td>\n",
       "      <td>7697.459696</td>\n",
       "      <td>4766.422505</td>\n",
       "      <td>4630.026799</td>\n",
       "    </tr>\n",
       "    <tr>\n",
       "      <th>7</th>\n",
       "      <td>7756.421586</td>\n",
       "      <td>5448.107051</td>\n",
       "      <td>5313.427721</td>\n",
       "      <td>4571.485046</td>\n",
       "      <td>7679.598124</td>\n",
       "      <td>4330.608104</td>\n",
       "      <td>3563.086774</td>\n",
       "      <td>6878.097966</td>\n",
       "      <td>7803.937797</td>\n",
       "      <td>6732.801283</td>\n",
       "      <td>4353.811860</td>\n",
       "      <td>7510.294160</td>\n",
       "      <td>5232.523034</td>\n",
       "      <td>4796.061440</td>\n",
       "    </tr>\n",
       "    <tr>\n",
       "      <th>9</th>\n",
       "      <td>7688.096097</td>\n",
       "      <td>5738.405685</td>\n",
       "      <td>5383.054515</td>\n",
       "      <td>4652.914172</td>\n",
       "      <td>7811.036063</td>\n",
       "      <td>4632.044474</td>\n",
       "      <td>3831.824415</td>\n",
       "      <td>6866.808502</td>\n",
       "      <td>7735.554366</td>\n",
       "      <td>7024.485525</td>\n",
       "      <td>4515.135617</td>\n",
       "      <td>7340.041341</td>\n",
       "      <td>5465.209493</td>\n",
       "      <td>5278.358057</td>\n",
       "    </tr>\n",
       "  </tbody>\n",
       "</table>\n",
       "</div>"
      ],
      "text/plain": [
       "   normalized-losses   wheel-base       length        width       height  \\\n",
       "1        7846.750605  4493.734069  4628.455501  4559.257298  8904.046456   \n",
       "3        7500.569812  5120.161506  5129.835821  4606.413692  8277.609643   \n",
       "5        7330.197653  5461.553998  5427.200961  4704.482590  8144.441043   \n",
       "7        7756.421586  5448.107051  5313.427721  4571.485046  7679.598124   \n",
       "9        7688.096097  5738.405685  5383.054515  4652.914172  7811.036063   \n",
       "\n",
       "   curb-weight  engine-size         bore       stroke  compression-ratio  \\\n",
       "1  5264.290231  3258.486106  8602.588485  9116.495955        8087.205347   \n",
       "3  5022.318012  2840.562806  6984.239489  7338.684670        7375.063686   \n",
       "5  4401.118255  3238.462830  6780.627785  8006.529545        6610.812153   \n",
       "7  4330.608104  3563.086774  6878.097966  7803.937797        6732.801283   \n",
       "9  4632.044474  3831.824415  6866.808502  7735.554366        7024.485525   \n",
       "\n",
       "    horsepower     peak-rpm     city-mpg  highway-mpg  \n",
       "1  4170.054848  9511.480068  5901.143574  6025.594967  \n",
       "3  4020.849263  8537.550900  4646.746409  4617.305020  \n",
       "5  4037.037713  7697.459696  4766.422505  4630.026799  \n",
       "7  4353.811860  7510.294160  5232.523034  4796.061440  \n",
       "9  4515.135617  7340.041341  5465.209493  5278.358057  "
      ]
     },
     "execution_count": 46,
     "metadata": {},
     "output_type": "execute_result"
    }
   ],
   "source": [
    "for model_feature in univariate_model_features:\n",
    "    feature_k_vals_model_predictions_quality = list()\n",
    "    for k_val in k_values:\n",
    "        k_val_specific_model_error_metric = knn_train_test(model_feature,target_column,univariate_rn_car_model_data,k_val)\n",
    "        feature_k_vals_model_predictions_quality.append(k_val_specific_model_error_metric)\n",
    "    # each feature exists as a single element list, and not as string\n",
    "    feature_performance_on_k_values[model_feature[0]] = feature_k_vals_model_predictions_quality\n",
    "\n",
    "# renaming index to reflect the different k-values used\n",
    "k_values_index_mapper = {idx:k_val for idx,k_val in zip(feature_performance_on_k_values.index,k_values)}\n",
    "\n",
    "feature_performance_on_k_values.rename(index=k_values_index_mapper,inplace=True)\n",
    "feature_performance_on_k_values"
   ]
  },
  {
   "cell_type": "markdown",
   "metadata": {},
   "source": [
    "### Visualizing each feature's performance on all specified k-values"
   ]
  },
  {
   "cell_type": "code",
   "execution_count": 47,
   "metadata": {
    "scrolled": false
   },
   "outputs": [
    {
     "data": {
      "image/png": "[encoded data removed]",
      "text/plain": [
       "<Figure size 432x288 with 1 Axes>"
      ]
     },
     "metadata": {
      "needs_background": "light"
     },
     "output_type": "display_data"
    },
    {
     "data": {
      "image/png": "[encoded data removed]",
      "text/plain": [
       "<Figure size 432x288 with 1 Axes>"
      ]
     },
     "metadata": {
      "needs_background": "light"
     },
     "output_type": "display_data"
    },
    {
     "data": {
      "image/png": "[encoded data removed]",
      "text/plain": [
       "<Figure size 432x288 with 1 Axes>"
      ]
     },
     "metadata": {
      "needs_background": "light"
     },
     "output_type": "display_data"
    },
    {
     "data": {
      "image/png": "[encoded data removed]",
      "text/plain": [
       "<Figure size 432x288 with 1 Axes>"
      ]
     },
     "metadata": {
      "needs_background": "light"
     },
     "output_type": "display_data"
    },
    {
     "data": {
      "image/png": "[encoded data removed]",
      "text/plain": [
       "<Figure size 432x288 with 1 Axes>"
      ]
     },
     "metadata": {
      "needs_background": "light"
     },
     "output_type": "display_data"
    },
    {
     "data": {
      "image/png": "[encoded data removed]",
      "text/plain": [
       "<Figure size 432x288 with 1 Axes>"
      ]
     },
     "metadata": {
      "needs_background": "light"
     },
     "output_type": "display_data"
    },
    {
     "data": {
      "image/png": "[encoded data removed]",
      "text/plain": [
       "<Figure size 432x288 with 1 Axes>"
      ]
     },
     "metadata": {
      "needs_background": "light"
     },
     "output_type": "display_data"
    },
    {
     "data": {
      "image/png": "[encoded data removed]",
      "text/plain": [
       "<Figure size 432x288 with 1 Axes>"
      ]
     },
     "metadata": {
      "needs_background": "light"
     },
     "output_type": "display_data"
    },
    {
     "data": {
      "image/png": "[encoded data removed]",
      "text/plain": [
       "<Figure size 432x288 with 1 Axes>"
      ]
     },
     "metadata": {
      "needs_background": "light"
     },
     "output_type": "display_data"
    },
    {
     "data": {
      "image/png": "[encoded data removed]",
      "text/plain": [
       "<Figure size 432x288 with 1 Axes>"
      ]
     },
     "metadata": {
      "needs_background": "light"
     },
     "output_type": "display_data"
    },
    {
     "data": {
      "image/png": "[encoded data removed]",
      "text/plain": [
       "<Figure size 432x288 with 1 Axes>"
      ]
     },
     "metadata": {
      "needs_background": "light"
     },
     "output_type": "display_data"
    },
    {
     "data": {
      "image/png": "[encoded data removed]",
      "text/plain": [
       "<Figure size 432x288 with 1 Axes>"
      ]
     },
     "metadata": {
      "needs_background": "light"
     },
     "output_type": "display_data"
    },
    {
     "data": {
      "image/png": "[encoded data removed]",
      "text/plain": [
       "<Figure size 432x288 with 1 Axes>"
      ]
     },
     "metadata": {
      "needs_background": "light"
     },
     "output_type": "display_data"
    },
    {
     "data": {
      "image/png": "[encoded data removed]",
      "text/plain": [
       "<Figure size 432x288 with 1 Axes>"
      ]
     },
     "metadata": {
      "needs_background": "light"
     },
     "output_type": "display_data"
    }
   ],
   "source": [
    "for feature in features:\n",
    "    feature_performance_on_k_values[feature].plot.line()\n",
    "    plt.title('{} feature prediction quality for car market prices on various k-values'.format(feature))\n",
    "    plt.xlabel('Number of nearest neighbours used i.e. {}'.format(k_values))\n",
    "    plt.ylabel('RMSE(Root Mean Squared Error) metric')\n",
    "    plt.show()    "
   ]
  },
  {
   "cell_type": "markdown",
   "metadata": {},
   "source": [
    "# Multivariate Model"
   ]
  },
  {
   "cell_type": "markdown",
   "metadata": {},
   "source": [
    "## Multivariate knn model data"
   ]
  },
  {
   "cell_type": "code",
   "execution_count": 48,
   "metadata": {},
   "outputs": [
    {
     "data": {
      "text/html": [
       "<div>\n",
       "<style scoped>\n",
       "    .dataframe tbody tr th:only-of-type {\n",
       "        vertical-align: middle;\n",
       "    }\n",
       "\n",
       "    .dataframe tbody tr th {\n",
       "        vertical-align: top;\n",
       "    }\n",
       "\n",
       "    .dataframe thead th {\n",
       "        text-align: right;\n",
       "    }\n",
       "</style>\n",
       "<table border=\"1\" class=\"dataframe\">\n",
       "  <thead>\n",
       "    <tr style=\"text-align: right;\">\n",
       "      <th></th>\n",
       "      <th>normalized-losses</th>\n",
       "      <th>wheel-base</th>\n",
       "      <th>length</th>\n",
       "      <th>width</th>\n",
       "      <th>height</th>\n",
       "      <th>curb-weight</th>\n",
       "      <th>engine-size</th>\n",
       "      <th>bore</th>\n",
       "      <th>stroke</th>\n",
       "      <th>compression-ratio</th>\n",
       "      <th>horsepower</th>\n",
       "      <th>peak-rpm</th>\n",
       "      <th>city-mpg</th>\n",
       "      <th>highway-mpg</th>\n",
       "      <th>price</th>\n",
       "    </tr>\n",
       "  </thead>\n",
       "  <tbody>\n",
       "    <tr>\n",
       "      <th>97</th>\n",
       "      <td>0.214660</td>\n",
       "      <td>0.309038</td>\n",
       "      <td>0.482090</td>\n",
       "      <td>0.418803</td>\n",
       "      <td>0.575000</td>\n",
       "      <td>0.315749</td>\n",
       "      <td>0.222642</td>\n",
       "      <td>0.564286</td>\n",
       "      <td>0.666667</td>\n",
       "      <td>0.09375</td>\n",
       "      <td>0.228972</td>\n",
       "      <td>0.428571</td>\n",
       "      <td>0.388889</td>\n",
       "      <td>0.473684</td>\n",
       "      <td>9549.0</td>\n",
       "    </tr>\n",
       "    <tr>\n",
       "      <th>117</th>\n",
       "      <td>0.465969</td>\n",
       "      <td>0.206997</td>\n",
       "      <td>0.241791</td>\n",
       "      <td>0.299145</td>\n",
       "      <td>0.233333</td>\n",
       "      <td>0.185803</td>\n",
       "      <td>0.109434</td>\n",
       "      <td>0.307143</td>\n",
       "      <td>0.552381</td>\n",
       "      <td>0.15000</td>\n",
       "      <td>0.093458</td>\n",
       "      <td>0.551020</td>\n",
       "      <td>0.500000</td>\n",
       "      <td>0.578947</td>\n",
       "      <td>6229.0</td>\n",
       "    </tr>\n",
       "    <tr>\n",
       "      <th>59</th>\n",
       "      <td>0.261780</td>\n",
       "      <td>0.355685</td>\n",
       "      <td>0.547761</td>\n",
       "      <td>0.529915</td>\n",
       "      <td>0.641667</td>\n",
       "      <td>0.357642</td>\n",
       "      <td>0.230189</td>\n",
       "      <td>0.607143</td>\n",
       "      <td>0.628571</td>\n",
       "      <td>0.10000</td>\n",
       "      <td>0.168224</td>\n",
       "      <td>0.265306</td>\n",
       "      <td>0.361111</td>\n",
       "      <td>0.421053</td>\n",
       "      <td>10245.0</td>\n",
       "    </tr>\n",
       "    <tr>\n",
       "      <th>35</th>\n",
       "      <td>0.068063</td>\n",
       "      <td>0.288630</td>\n",
       "      <td>0.238806</td>\n",
       "      <td>0.307692</td>\n",
       "      <td>0.875000</td>\n",
       "      <td>0.207913</td>\n",
       "      <td>0.116981</td>\n",
       "      <td>0.271429</td>\n",
       "      <td>0.638095</td>\n",
       "      <td>0.13750</td>\n",
       "      <td>0.130841</td>\n",
       "      <td>0.755102</td>\n",
       "      <td>0.472222</td>\n",
       "      <td>0.473684</td>\n",
       "      <td>7295.0</td>\n",
       "    </tr>\n",
       "    <tr>\n",
       "      <th>165</th>\n",
       "      <td>0.361257</td>\n",
       "      <td>0.344023</td>\n",
       "      <td>0.523881</td>\n",
       "      <td>0.452991</td>\n",
       "      <td>0.350000</td>\n",
       "      <td>0.412335</td>\n",
       "      <td>0.320755</td>\n",
       "      <td>0.771429</td>\n",
       "      <td>0.680952</td>\n",
       "      <td>0.14375</td>\n",
       "      <td>0.317757</td>\n",
       "      <td>0.265306</td>\n",
       "      <td>0.305556</td>\n",
       "      <td>0.368421</td>\n",
       "      <td>9989.0</td>\n",
       "    </tr>\n",
       "    <tr>\n",
       "      <th>...</th>\n",
       "      <td>...</td>\n",
       "      <td>...</td>\n",
       "      <td>...</td>\n",
       "      <td>...</td>\n",
       "      <td>...</td>\n",
       "      <td>...</td>\n",
       "      <td>...</td>\n",
       "      <td>...</td>\n",
       "      <td>...</td>\n",
       "      <td>...</td>\n",
       "      <td>...</td>\n",
       "      <td>...</td>\n",
       "      <td>...</td>\n",
       "      <td>...</td>\n",
       "      <td>...</td>\n",
       "    </tr>\n",
       "    <tr>\n",
       "      <th>133</th>\n",
       "      <td>0.204188</td>\n",
       "      <td>0.364431</td>\n",
       "      <td>0.679104</td>\n",
       "      <td>0.529915</td>\n",
       "      <td>0.691667</td>\n",
       "      <td>0.527153</td>\n",
       "      <td>0.226415</td>\n",
       "      <td>0.714286</td>\n",
       "      <td>0.476190</td>\n",
       "      <td>0.12500</td>\n",
       "      <td>0.523364</td>\n",
       "      <td>0.551020</td>\n",
       "      <td>0.166667</td>\n",
       "      <td>0.263158</td>\n",
       "      <td>18620.0</td>\n",
       "    </tr>\n",
       "    <tr>\n",
       "      <th>137</th>\n",
       "      <td>0.193717</td>\n",
       "      <td>0.309038</td>\n",
       "      <td>0.461194</td>\n",
       "      <td>0.435897</td>\n",
       "      <td>0.391667</td>\n",
       "      <td>0.254849</td>\n",
       "      <td>0.177358</td>\n",
       "      <td>0.771429</td>\n",
       "      <td>0.271429</td>\n",
       "      <td>0.15625</td>\n",
       "      <td>0.158879</td>\n",
       "      <td>0.265306</td>\n",
       "      <td>0.527778</td>\n",
       "      <td>0.552632</td>\n",
       "      <td>7126.0</td>\n",
       "    </tr>\n",
       "    <tr>\n",
       "      <th>72</th>\n",
       "      <td>0.298429</td>\n",
       "      <td>0.469388</td>\n",
       "      <td>0.556716</td>\n",
       "      <td>0.658120</td>\n",
       "      <td>0.583333</td>\n",
       "      <td>0.551590</td>\n",
       "      <td>0.298113</td>\n",
       "      <td>0.885714</td>\n",
       "      <td>0.500000</td>\n",
       "      <td>0.06250</td>\n",
       "      <td>0.593458</td>\n",
       "      <td>0.346939</td>\n",
       "      <td>0.166667</td>\n",
       "      <td>0.210526</td>\n",
       "      <td>16503.0</td>\n",
       "    </tr>\n",
       "    <tr>\n",
       "      <th>140</th>\n",
       "      <td>0.193717</td>\n",
       "      <td>0.303207</td>\n",
       "      <td>0.461194</td>\n",
       "      <td>0.435897</td>\n",
       "      <td>0.541667</td>\n",
       "      <td>0.347944</td>\n",
       "      <td>0.177358</td>\n",
       "      <td>0.771429</td>\n",
       "      <td>0.271429</td>\n",
       "      <td>0.12500</td>\n",
       "      <td>0.158879</td>\n",
       "      <td>0.265306</td>\n",
       "      <td>0.305556</td>\n",
       "      <td>0.236842</td>\n",
       "      <td>9233.0</td>\n",
       "    </tr>\n",
       "    <tr>\n",
       "      <th>37</th>\n",
       "      <td>0.214660</td>\n",
       "      <td>0.288630</td>\n",
       "      <td>0.394030</td>\n",
       "      <td>0.418803</td>\n",
       "      <td>0.458333</td>\n",
       "      <td>0.310706</td>\n",
       "      <td>0.184906</td>\n",
       "      <td>0.435714</td>\n",
       "      <td>0.719048</td>\n",
       "      <td>0.12500</td>\n",
       "      <td>0.177570</td>\n",
       "      <td>0.673469</td>\n",
       "      <td>0.388889</td>\n",
       "      <td>0.447368</td>\n",
       "      <td>9095.0</td>\n",
       "    </tr>\n",
       "  </tbody>\n",
       "</table>\n",
       "<p>201 rows × 15 columns</p>\n",
       "</div>"
      ],
      "text/plain": [
       "     normalized-losses  wheel-base    length     width    height  curb-weight  \\\n",
       "97            0.214660    0.309038  0.482090  0.418803  0.575000     0.315749   \n",
       "117           0.465969    0.206997  0.241791  0.299145  0.233333     0.185803   \n",
       "59            0.261780    0.355685  0.547761  0.529915  0.641667     0.357642   \n",
       "35            0.068063    0.288630  0.238806  0.307692  0.875000     0.207913   \n",
       "165           0.361257    0.344023  0.523881  0.452991  0.350000     0.412335   \n",
       "..                 ...         ...       ...       ...       ...          ...   \n",
       "133           0.204188    0.364431  0.679104  0.529915  0.691667     0.527153   \n",
       "137           0.193717    0.309038  0.461194  0.435897  0.391667     0.254849   \n",
       "72            0.298429    0.469388  0.556716  0.658120  0.583333     0.551590   \n",
       "140           0.193717    0.303207  0.461194  0.435897  0.541667     0.347944   \n",
       "37            0.214660    0.288630  0.394030  0.418803  0.458333     0.310706   \n",
       "\n",
       "     engine-size      bore    stroke  compression-ratio  horsepower  peak-rpm  \\\n",
       "97      0.222642  0.564286  0.666667            0.09375    0.228972  0.428571   \n",
       "117     0.109434  0.307143  0.552381            0.15000    0.093458  0.551020   \n",
       "59      0.230189  0.607143  0.628571            0.10000    0.168224  0.265306   \n",
       "35      0.116981  0.271429  0.638095            0.13750    0.130841  0.755102   \n",
       "165     0.320755  0.771429  0.680952            0.14375    0.317757  0.265306   \n",
       "..           ...       ...       ...                ...         ...       ...   \n",
       "133     0.226415  0.714286  0.476190            0.12500    0.523364  0.551020   \n",
       "137     0.177358  0.771429  0.271429            0.15625    0.158879  0.265306   \n",
       "72      0.298113  0.885714  0.500000            0.06250    0.593458  0.346939   \n",
       "140     0.177358  0.771429  0.271429            0.12500    0.158879  0.265306   \n",
       "37      0.184906  0.435714  0.719048            0.12500    0.177570  0.673469   \n",
       "\n",
       "     city-mpg  highway-mpg    price  \n",
       "97   0.388889     0.473684   9549.0  \n",
       "117  0.500000     0.578947   6229.0  \n",
       "59   0.361111     0.421053  10245.0  \n",
       "35   0.472222     0.473684   7295.0  \n",
       "165  0.305556     0.368421   9989.0  \n",
       "..        ...          ...      ...  \n",
       "133  0.166667     0.263158  18620.0  \n",
       "137  0.527778     0.552632   7126.0  \n",
       "72   0.166667     0.210526  16503.0  \n",
       "140  0.305556     0.236842   9233.0  \n",
       "37   0.388889     0.447368   9095.0  \n",
       "\n",
       "[201 rows x 15 columns]"
      ]
     },
     "execution_count": 48,
     "metadata": {},
     "output_type": "execute_result"
    }
   ],
   "source": [
    "multivariate_rn_car_model_data = rn_car_model_data.copy()\n",
    "multivariate_rn_car_model_data"
   ]
  },
  {
   "cell_type": "markdown",
   "metadata": {},
   "source": [
    "## Calculating average prediction quality across the specified k-values for each feature"
   ]
  },
  {
   "cell_type": "code",
   "execution_count": 49,
   "metadata": {},
   "outputs": [
    {
     "data": {
      "text/plain": [
       "normalized-losses    7624.407151\n",
       "wheel-base           5252.392462\n",
       "length               5176.394904\n",
       "width                4618.910560\n",
       "height               8163.346266\n",
       "curb-weight          4730.075815\n",
       "engine-size          3346.484586\n",
       "bore                 7222.472445\n",
       "stroke               8000.240467\n",
       "compression-ratio    7166.073599\n",
       "horsepower           4219.377860\n",
       "peak-rpm             8119.365233\n",
       "city-mpg             5202.409003\n",
       "highway-mpg          5069.469256\n",
       "dtype: float64"
      ]
     },
     "execution_count": 49,
     "metadata": {},
     "output_type": "execute_result"
    }
   ],
   "source": [
    "avg_feature_performance = feature_performance_on_k_values.mean()\n",
    "avg_feature_performance"
   ]
  },
  {
   "cell_type": "markdown",
   "metadata": {},
   "source": [
    "## Best features to train a multi-variate knn model on using average RMSE metric"
   ]
  },
  {
   "cell_type": "code",
   "execution_count": 50,
   "metadata": {},
   "outputs": [
    {
     "data": {
      "text/plain": [
       "engine-size          3346.484586\n",
       "horsepower           4219.377860\n",
       "width                4618.910560\n",
       "curb-weight          4730.075815\n",
       "highway-mpg          5069.469256\n",
       "length               5176.394904\n",
       "city-mpg             5202.409003\n",
       "wheel-base           5252.392462\n",
       "compression-ratio    7166.073599\n",
       "bore                 7222.472445\n",
       "normalized-losses    7624.407151\n",
       "stroke               8000.240467\n",
       "peak-rpm             8119.365233\n",
       "height               8163.346266\n",
       "dtype: float64"
      ]
     },
     "execution_count": 50,
     "metadata": {},
     "output_type": "execute_result"
    }
   ],
   "source": [
    "best_avg_feature_performance = avg_feature_performance.sort_values()\n",
    "best_avg_feature_performance"
   ]
  },
  {
   "cell_type": "markdown",
   "metadata": {},
   "source": [
    "## Determining multi-variate knn model (using default k-value) prediction quality using different number of 'best' features"
   ]
  },
  {
   "cell_type": "code",
   "execution_count": 51,
   "metadata": {},
   "outputs": [
    {
     "data": {
      "text/plain": [
       "[2, 3, 4, 5, 6]"
      ]
     },
     "execution_count": 51,
     "metadata": {},
     "output_type": "execute_result"
    }
   ],
   "source": [
    "number_of_best_features = list(range(2,7))\n",
    "number_of_best_features"
   ]
  },
  {
   "cell_type": "markdown",
   "metadata": {},
   "source": [
    "### Determining multi-variate knn model prediction qualilty for different number of 'best' features"
   ]
  },
  {
   "cell_type": "code",
   "execution_count": 52,
   "metadata": {},
   "outputs": [
    {
     "data": {
      "text/plain": [
       "2    2949.881728\n",
       "3    3580.737665\n",
       "4    3487.340917\n",
       "5    3410.217013\n",
       "6    3478.510890\n",
       "dtype: float64"
      ]
     },
     "execution_count": 52,
     "metadata": {},
     "output_type": "execute_result"
    }
   ],
   "source": [
    "rmse_values = list()\n",
    "for num_feature in number_of_best_features:\n",
    "    features = list(best_avg_feature_performance.index[:num_feature])\n",
    "    multi_variate_model_error_metric = knn_train_test(features,target_column,multivariate_rn_car_model_data)\n",
    "    rmse_values.append(multi_variate_model_error_metric)\n",
    "\n",
    "num_features_based_prediction_quality= pd.Series(rmse_values,index=number_of_best_features)\n",
    "num_features_based_prediction_quality"
   ]
  },
  {
   "cell_type": "markdown",
   "metadata": {},
   "source": [
    "# Hyperparameter Tuning"
   ]
  },
  {
   "cell_type": "markdown",
   "metadata": {},
   "source": [
    "Let's now optimize the model that performed the best in the previous step."
   ]
  },
  {
   "cell_type": "markdown",
   "metadata": {},
   "source": [
    "## Determining the best models (based on RMSE metric)"
   ]
  },
  {
   "cell_type": "code",
   "execution_count": 53,
   "metadata": {},
   "outputs": [
    {
     "data": {
      "text/plain": [
       "2    2949.881728\n",
       "5    3410.217013\n",
       "6    3478.510890\n",
       "4    3487.340917\n",
       "3    3580.737665\n",
       "dtype: float64"
      ]
     },
     "execution_count": 53,
     "metadata": {},
     "output_type": "execute_result"
    }
   ],
   "source": [
    "best_num_features_based_prediction_quality = num_features_based_prediction_quality.sort_values()\n",
    "best_num_features_based_prediction_quality"
   ]
  },
  {
   "cell_type": "code",
   "execution_count": 54,
   "metadata": {},
   "outputs": [
    {
     "data": {
      "text/plain": [
       "Int64Index([2, 5, 6], dtype='int64')"
      ]
     },
     "execution_count": 54,
     "metadata": {},
     "output_type": "execute_result"
    }
   ],
   "source": [
    "top_3_best_number_of_features = best_num_features_based_prediction_quality.index[:3]\n",
    "top_3_best_number_of_features"
   ]
  },
  {
   "cell_type": "markdown",
   "metadata": {},
   "source": [
    "The best 3 multivariate knn models (based on least values of the RMSE metric) are those that use 2,5 and 6 number of features for their modelling."
   ]
  },
  {
   "cell_type": "markdown",
   "metadata": {},
   "source": [
    "## Varying hyperparameter value (i.e. number of nearest neighbours) to find the optimal k-value for each of the best models"
   ]
  },
  {
   "cell_type": "code",
   "execution_count": 55,
   "metadata": {},
   "outputs": [
    {
     "name": "stdout",
     "output_type": "stream",
     "text": [
      "[1, 2, 3, 4, 5, 6, 7, 8, 9, 10, 11, 12, 13, 14, 15, 16, 17, 18, 19, 20, 21, 22, 23, 24, 25]\n"
     ]
    }
   ],
   "source": [
    "hyperparameter_values = list(range(1,26))\n",
    "print(hyperparameter_values)"
   ]
  },
  {
   "cell_type": "markdown",
   "metadata": {},
   "source": [
    "### Prediction qualities for each best feature set on all specified hyperparameter values"
   ]
  },
  {
   "cell_type": "code",
   "execution_count": 56,
   "metadata": {
    "scrolled": true
   },
   "outputs": [
    {
     "data": {
      "text/html": [
       "<div>\n",
       "<style scoped>\n",
       "    .dataframe tbody tr th:only-of-type {\n",
       "        vertical-align: middle;\n",
       "    }\n",
       "\n",
       "    .dataframe tbody tr th {\n",
       "        vertical-align: top;\n",
       "    }\n",
       "\n",
       "    .dataframe thead th {\n",
       "        text-align: right;\n",
       "    }\n",
       "</style>\n",
       "<table border=\"1\" class=\"dataframe\">\n",
       "  <thead>\n",
       "    <tr style=\"text-align: right;\">\n",
       "      <th></th>\n",
       "      <th>2 num best features</th>\n",
       "      <th>5 num best features</th>\n",
       "      <th>6 num best features</th>\n",
       "    </tr>\n",
       "  </thead>\n",
       "  <tbody>\n",
       "    <tr>\n",
       "      <th>1</th>\n",
       "      <td>2783.620424</td>\n",
       "      <td>2824.706123</td>\n",
       "      <td>2912.593824</td>\n",
       "    </tr>\n",
       "    <tr>\n",
       "      <th>2</th>\n",
       "      <td>2657.796381</td>\n",
       "      <td>2915.673165</td>\n",
       "      <td>3166.153231</td>\n",
       "    </tr>\n",
       "    <tr>\n",
       "      <th>3</th>\n",
       "      <td>2792.586573</td>\n",
       "      <td>3012.420455</td>\n",
       "      <td>2946.297424</td>\n",
       "    </tr>\n",
       "    <tr>\n",
       "      <th>4</th>\n",
       "      <td>2891.532969</td>\n",
       "      <td>3202.887605</td>\n",
       "      <td>3236.667971</td>\n",
       "    </tr>\n",
       "    <tr>\n",
       "      <th>5</th>\n",
       "      <td>2949.881728</td>\n",
       "      <td>3410.217013</td>\n",
       "      <td>3478.510890</td>\n",
       "    </tr>\n",
       "    <tr>\n",
       "      <th>6</th>\n",
       "      <td>3096.402602</td>\n",
       "      <td>3618.450943</td>\n",
       "      <td>3682.857366</td>\n",
       "    </tr>\n",
       "    <tr>\n",
       "      <th>7</th>\n",
       "      <td>3164.681969</td>\n",
       "      <td>3622.629021</td>\n",
       "      <td>3808.418131</td>\n",
       "    </tr>\n",
       "    <tr>\n",
       "      <th>8</th>\n",
       "      <td>3413.228359</td>\n",
       "      <td>3848.635836</td>\n",
       "      <td>3957.028826</td>\n",
       "    </tr>\n",
       "    <tr>\n",
       "      <th>9</th>\n",
       "      <td>3748.671660</td>\n",
       "      <td>3977.814914</td>\n",
       "      <td>4013.900022</td>\n",
       "    </tr>\n",
       "    <tr>\n",
       "      <th>10</th>\n",
       "      <td>4080.712506</td>\n",
       "      <td>3994.813221</td>\n",
       "      <td>4048.997628</td>\n",
       "    </tr>\n",
       "    <tr>\n",
       "      <th>11</th>\n",
       "      <td>4215.637228</td>\n",
       "      <td>4159.843527</td>\n",
       "      <td>4156.133694</td>\n",
       "    </tr>\n",
       "    <tr>\n",
       "      <th>12</th>\n",
       "      <td>4275.421524</td>\n",
       "      <td>4294.338947</td>\n",
       "      <td>4195.095897</td>\n",
       "    </tr>\n",
       "    <tr>\n",
       "      <th>13</th>\n",
       "      <td>4373.901683</td>\n",
       "      <td>4380.848359</td>\n",
       "      <td>4304.728621</td>\n",
       "    </tr>\n",
       "    <tr>\n",
       "      <th>14</th>\n",
       "      <td>4424.285137</td>\n",
       "      <td>4466.368754</td>\n",
       "      <td>4379.114230</td>\n",
       "    </tr>\n",
       "    <tr>\n",
       "      <th>15</th>\n",
       "      <td>4539.505493</td>\n",
       "      <td>4522.420711</td>\n",
       "      <td>4448.249476</td>\n",
       "    </tr>\n",
       "    <tr>\n",
       "      <th>16</th>\n",
       "      <td>4667.307671</td>\n",
       "      <td>4536.427578</td>\n",
       "      <td>4479.736821</td>\n",
       "    </tr>\n",
       "    <tr>\n",
       "      <th>17</th>\n",
       "      <td>4729.605306</td>\n",
       "      <td>4587.098444</td>\n",
       "      <td>4570.012109</td>\n",
       "    </tr>\n",
       "    <tr>\n",
       "      <th>18</th>\n",
       "      <td>4790.556632</td>\n",
       "      <td>4622.107838</td>\n",
       "      <td>4621.548035</td>\n",
       "    </tr>\n",
       "    <tr>\n",
       "      <th>19</th>\n",
       "      <td>4824.386619</td>\n",
       "      <td>4612.890108</td>\n",
       "      <td>4666.838563</td>\n",
       "    </tr>\n",
       "    <tr>\n",
       "      <th>20</th>\n",
       "      <td>4840.850915</td>\n",
       "      <td>4632.693976</td>\n",
       "      <td>4731.735093</td>\n",
       "    </tr>\n",
       "    <tr>\n",
       "      <th>21</th>\n",
       "      <td>4837.429062</td>\n",
       "      <td>4712.917548</td>\n",
       "      <td>4815.490735</td>\n",
       "    </tr>\n",
       "    <tr>\n",
       "      <th>22</th>\n",
       "      <td>4831.169883</td>\n",
       "      <td>4676.301065</td>\n",
       "      <td>4867.419974</td>\n",
       "    </tr>\n",
       "    <tr>\n",
       "      <th>23</th>\n",
       "      <td>4861.679493</td>\n",
       "      <td>4691.189311</td>\n",
       "      <td>4933.192530</td>\n",
       "    </tr>\n",
       "    <tr>\n",
       "      <th>24</th>\n",
       "      <td>4903.346009</td>\n",
       "      <td>4755.990767</td>\n",
       "      <td>4948.357240</td>\n",
       "    </tr>\n",
       "    <tr>\n",
       "      <th>25</th>\n",
       "      <td>4955.892429</td>\n",
       "      <td>4804.323266</td>\n",
       "      <td>4957.781470</td>\n",
       "    </tr>\n",
       "  </tbody>\n",
       "</table>\n",
       "</div>"
      ],
      "text/plain": [
       "    2 num best features  5 num best features  6 num best features\n",
       "1           2783.620424          2824.706123          2912.593824\n",
       "2           2657.796381          2915.673165          3166.153231\n",
       "3           2792.586573          3012.420455          2946.297424\n",
       "4           2891.532969          3202.887605          3236.667971\n",
       "5           2949.881728          3410.217013          3478.510890\n",
       "6           3096.402602          3618.450943          3682.857366\n",
       "7           3164.681969          3622.629021          3808.418131\n",
       "8           3413.228359          3848.635836          3957.028826\n",
       "9           3748.671660          3977.814914          4013.900022\n",
       "10          4080.712506          3994.813221          4048.997628\n",
       "11          4215.637228          4159.843527          4156.133694\n",
       "12          4275.421524          4294.338947          4195.095897\n",
       "13          4373.901683          4380.848359          4304.728621\n",
       "14          4424.285137          4466.368754          4379.114230\n",
       "15          4539.505493          4522.420711          4448.249476\n",
       "16          4667.307671          4536.427578          4479.736821\n",
       "17          4729.605306          4587.098444          4570.012109\n",
       "18          4790.556632          4622.107838          4621.548035\n",
       "19          4824.386619          4612.890108          4666.838563\n",
       "20          4840.850915          4632.693976          4731.735093\n",
       "21          4837.429062          4712.917548          4815.490735\n",
       "22          4831.169883          4676.301065          4867.419974\n",
       "23          4861.679493          4691.189311          4933.192530\n",
       "24          4903.346009          4755.990767          4948.357240\n",
       "25          4955.892429          4804.323266          4957.781470"
      ]
     },
     "execution_count": 56,
     "metadata": {},
     "output_type": "execute_result"
    }
   ],
   "source": [
    "# computing RMSE value for each k-value specified on each of the 3 best performing feature sets \n",
    "h_vals_prediction_qualities = pd.DataFrame()\n",
    "for num_feature in top_3_best_number_of_features:\n",
    "    rmse_values = list()\n",
    "    features = list(best_avg_feature_performance.index[:num_feature])\n",
    "    for h_val in hyperparameter_values:\n",
    "        h_val_error_metric = knn_train_test(features,target_column,multivariate_rn_car_model_data,h_val)\n",
    "        rmse_values.append(h_val_error_metric)\n",
    "    h_vals_prediction_qualities['{} num best features'.format(num_feature)] = rmse_values\n",
    "\n",
    "h_vals_prediction_qualities.rename(index = {idx:idx+1 for idx in h_vals_prediction_qualities.index},inplace=True)\n",
    "h_vals_prediction_qualities"
   ]
  },
  {
   "cell_type": "markdown",
   "metadata": {},
   "source": [
    "### Visualizing the aforementioned prediction qualities"
   ]
  },
  {
   "cell_type": "code",
   "execution_count": 57,
   "metadata": {},
   "outputs": [
    {
     "data": {
      "text/plain": [
       "Text(0, 0.5, 'RMSE values')"
      ]
     },
     "execution_count": 57,
     "metadata": {},
     "output_type": "execute_result"
    },
    {
     "data": {
      "image/png": "[encoded data removed]",
      "text/plain": [
       "<Figure size 432x288 with 1 Axes>"
      ]
     },
     "metadata": {
      "needs_background": "light"
     },
     "output_type": "display_data"
    }
   ],
   "source": [
    "for col in h_vals_prediction_qualities.columns:\n",
    "    plt.plot(h_vals_prediction_qualities[col],label=\"{}\".format(col))\n",
    "plt.xlabel('k-values')\n",
    "plt.ylabel('RMSE values')"
   ]
  },
  {
   "cell_type": "markdown",
   "metadata": {},
   "source": [
    "### Determining optimal k-value for each best feature set"
   ]
  },
  {
   "cell_type": "code",
   "execution_count": 58,
   "metadata": {},
   "outputs": [
    {
     "data": {
      "text/plain": [
       "{'2 num best features': 2, '5 num best features': 1, '6 num best features': 1}"
      ]
     },
     "execution_count": 58,
     "metadata": {},
     "output_type": "execute_result"
    }
   ],
   "source": [
    "feature_set_optimal_k_value = dict()\n",
    "for col in h_vals_prediction_qualities.columns:\n",
    "    optimal_k_val = h_vals_prediction_qualities[col].sort_values().index[0]\n",
    "    feature_set_optimal_k_value[col] = optimal_k_val\n",
    "\n",
    "feature_set_optimal_k_value"
   ]
  },
  {
   "cell_type": "markdown",
   "metadata": {},
   "source": [
    "Observations:-\n",
    "1. The optimal k-values for multivariate models trained on each of the 3 best performing feature sets are not starkly different.\n",
    "2. For multivariate knn models trained using the best 5 or 6 features, k-value used is 1. The high variance of a complex knn model (model complexity is measured in terms of number of features used to construct the model) like the ones we observe for those models constructed using the best 5 or 6 length feature sets, can be attributed to the low value of number of nearest neighbours.\n",
    "3. The multivariate knn model trained using the 2 best features has a higher k-value than those for the 2 aforementioned cases. The lower model complexity associated with using this feature set is due to the fact that the greater number of nearest neighbours makes variability in predicted values less, and so the variance is less. This accounts for the lower average RMSE metric (lower error metric usually implies a better prediction quality, wherein quality is measured in terms of inaccuracy of predicted values from actual values.)"
   ]
  },
  {
   "cell_type": "markdown",
   "metadata": {},
   "source": [
    "# Using k-fold cross validation technique instead of the simple validation technique used earlier"
   ]
  },
  {
   "cell_type": "markdown",
   "metadata": {},
   "source": [
    "## Function using k-fold cross validation technique"
   ]
  },
  {
   "cell_type": "code",
   "execution_count": 59,
   "metadata": {},
   "outputs": [],
   "source": [
    "def knn_k_fold_cross_validation(m_feature,target_column,model_data,number_of_neighbours=5,num_folds=10,scoring_metric='neg_mean_squared_error'):\n",
    "    # instantiating the scikit-learn model class we want to fit(in this case, KNeighboursRegressor)\n",
    "    knn = KNeighborsRegressor(n_neighbors=number_of_neighbours)\n",
    "    \n",
    "    # instantiating the KFold class and using the parameters to specify the k-fold cross-validation attributes we want\n",
    "    kf = KFold(n_splits = num_folds,shuffle=True,random_state=1)\n",
    "    \n",
    "    # use the cross_val_score() function to return the scoring metric we're interested in.\n",
    "    model_mses = cross_val_score(estimator=knn,X=model_data[m_feature],y=model_data[target_column],scoring=scoring_metric,cv=kf)\n",
    "    \n",
    "    # 1. returned mses are negative in sign, so find absolute values\n",
    "    # 2. we need to calculate RMSE values as they are in same units as predicted feature and intuitive\n",
    "    # 3. Mean RMSE value gives an overall picture of the quality of a model's predictions\n",
    "    model_avg_rmse = np.mean(np.sqrt(np.absolute(model_mses)))\n",
    "    return model_avg_rmse"
   ]
  },
  {
   "cell_type": "markdown",
   "metadata": {},
   "source": [
    "This is a more rigorous and unbiased validation technique compared to the holdout validation technique that we saw earlier(i.e. number of fold = 2)"
   ]
  },
  {
   "cell_type": "markdown",
   "metadata": {},
   "source": [
    "## Univariate Model"
   ]
  },
  {
   "cell_type": "code",
   "execution_count": 60,
   "metadata": {},
   "outputs": [
    {
     "data": {
      "text/plain": [
       "['normalized-losses',\n",
       " 'wheel-base',\n",
       " 'length',\n",
       " 'width',\n",
       " 'height',\n",
       " 'curb-weight',\n",
       " 'engine-size',\n",
       " 'bore',\n",
       " 'stroke',\n",
       " 'compression-ratio',\n",
       " 'horsepower',\n",
       " 'peak-rpm',\n",
       " 'city-mpg',\n",
       " 'highway-mpg']"
      ]
     },
     "execution_count": 60,
     "metadata": {},
     "output_type": "execute_result"
    }
   ],
   "source": [
    "features = [col for col in normalized_car_model_data.columns if col != target_column]\n",
    "features"
   ]
  },
  {
   "cell_type": "markdown",
   "metadata": {},
   "source": [
    "### Determining the feature that performed the best on the default k-value (default number of nearest neighbours)"
   ]
  },
  {
   "cell_type": "code",
   "execution_count": 61,
   "metadata": {},
   "outputs": [
    {
     "data": {
      "text/plain": [
       "engine-size          3043.502927\n",
       "horsepower           3801.849871\n",
       "highway-mpg          4180.874800\n",
       "width                4209.420018\n",
       "curb-weight          4234.188078\n",
       "city-mpg             4305.536968\n",
       "length               5344.389417\n",
       "wheel-base           5725.179143\n",
       "compression-ratio    6082.597131\n",
       "normalized-losses    6671.869661\n",
       "bore                 6914.254048\n",
       "stroke               7297.139641\n",
       "peak-rpm             7510.544452\n",
       "height               7702.821601\n",
       "dtype: float64"
      ]
     },
     "execution_count": 61,
     "metadata": {},
     "output_type": "execute_result"
    }
   ],
   "source": [
    "# quality of a model's predictions can be quantified in terms of error metric computed\n",
    "model_predictions_quality = list()\n",
    "for model_feature in univariate_model_features:\n",
    "    model_error_metric = knn_k_fold_cross_validation(model_feature,target_column,normalized_car_model_data)\n",
    "    model_predictions_quality.append(model_error_metric)\n",
    "\n",
    "model_predictions_quality\n",
    "feature_performance = pd.Series(data=model_predictions_quality,index=features)\n",
    "\n",
    "best_performing_features = feature_performance.sort_values()\n",
    "best_performing_features"
   ]
  },
  {
   "cell_type": "markdown",
   "metadata": {},
   "source": [
    "The `engine-size` feature performed the best using the default k-value for the knn model used."
   ]
  },
  {
   "cell_type": "markdown",
   "metadata": {},
   "source": [
    "### Determining and Visualizing each feature performance for different k-values using the univariate model"
   ]
  },
  {
   "cell_type": "code",
   "execution_count": 62,
   "metadata": {},
   "outputs": [],
   "source": [
    "# the different number of nearest neighbours to use for training, predicting and validating the univariate model\n",
    "k_values = [1,3,5,7,9]\n",
    "\n",
    "# dataframe containing each features performance on the univariate model for different number of nearest neighbours\n",
    "feature_performance_on_k_values = pd.DataFrame()"
   ]
  },
  {
   "cell_type": "markdown",
   "metadata": {},
   "source": [
    "#### Determination of prediction quality for each feature on all specified k-values"
   ]
  },
  {
   "cell_type": "code",
   "execution_count": 63,
   "metadata": {},
   "outputs": [
    {
     "data": {
      "text/html": [
       "<div>\n",
       "<style scoped>\n",
       "    .dataframe tbody tr th:only-of-type {\n",
       "        vertical-align: middle;\n",
       "    }\n",
       "\n",
       "    .dataframe tbody tr th {\n",
       "        vertical-align: top;\n",
       "    }\n",
       "\n",
       "    .dataframe thead th {\n",
       "        text-align: right;\n",
       "    }\n",
       "</style>\n",
       "<table border=\"1\" class=\"dataframe\">\n",
       "  <thead>\n",
       "    <tr style=\"text-align: right;\">\n",
       "      <th></th>\n",
       "      <th>normalized-losses</th>\n",
       "      <th>wheel-base</th>\n",
       "      <th>length</th>\n",
       "      <th>width</th>\n",
       "      <th>height</th>\n",
       "      <th>curb-weight</th>\n",
       "      <th>engine-size</th>\n",
       "      <th>bore</th>\n",
       "      <th>stroke</th>\n",
       "      <th>compression-ratio</th>\n",
       "      <th>horsepower</th>\n",
       "      <th>peak-rpm</th>\n",
       "      <th>city-mpg</th>\n",
       "      <th>highway-mpg</th>\n",
       "    </tr>\n",
       "  </thead>\n",
       "  <tbody>\n",
       "    <tr>\n",
       "      <th>1</th>\n",
       "      <td>7579.057448</td>\n",
       "      <td>4127.664023</td>\n",
       "      <td>4898.478019</td>\n",
       "      <td>4066.868124</td>\n",
       "      <td>8392.337279</td>\n",
       "      <td>5157.859842</td>\n",
       "      <td>3601.796747</td>\n",
       "      <td>8057.920723</td>\n",
       "      <td>8225.659301</td>\n",
       "      <td>6741.420713</td>\n",
       "      <td>3991.682326</td>\n",
       "      <td>8725.320610</td>\n",
       "      <td>5756.990928</td>\n",
       "      <td>5108.460253</td>\n",
       "    </tr>\n",
       "    <tr>\n",
       "      <th>3</th>\n",
       "      <td>7148.990331</td>\n",
       "      <td>4791.446221</td>\n",
       "      <td>5055.359831</td>\n",
       "      <td>4014.256862</td>\n",
       "      <td>7867.419571</td>\n",
       "      <td>4495.974906</td>\n",
       "      <td>3054.441896</td>\n",
       "      <td>6514.966390</td>\n",
       "      <td>7273.057903</td>\n",
       "      <td>5821.947865</td>\n",
       "      <td>3860.005144</td>\n",
       "      <td>7721.733869</td>\n",
       "      <td>4388.057423</td>\n",
       "      <td>4648.040609</td>\n",
       "    </tr>\n",
       "    <tr>\n",
       "      <th>5</th>\n",
       "      <td>6671.869661</td>\n",
       "      <td>5725.179143</td>\n",
       "      <td>5344.389417</td>\n",
       "      <td>4209.420018</td>\n",
       "      <td>7702.821601</td>\n",
       "      <td>4234.188078</td>\n",
       "      <td>3043.502927</td>\n",
       "      <td>6914.254048</td>\n",
       "      <td>7297.139641</td>\n",
       "      <td>6082.597131</td>\n",
       "      <td>3801.849871</td>\n",
       "      <td>7510.544452</td>\n",
       "      <td>4305.536968</td>\n",
       "      <td>4180.874800</td>\n",
       "    </tr>\n",
       "    <tr>\n",
       "      <th>7</th>\n",
       "      <td>7076.278964</td>\n",
       "      <td>5949.354619</td>\n",
       "      <td>5407.596946</td>\n",
       "      <td>4362.409681</td>\n",
       "      <td>7663.933333</td>\n",
       "      <td>4065.269237</td>\n",
       "      <td>3346.551409</td>\n",
       "      <td>6940.746752</td>\n",
       "      <td>7332.833386</td>\n",
       "      <td>6251.986521</td>\n",
       "      <td>3799.826781</td>\n",
       "      <td>7487.471490</td>\n",
       "      <td>4247.140019</td>\n",
       "      <td>4136.835757</td>\n",
       "    </tr>\n",
       "    <tr>\n",
       "      <th>9</th>\n",
       "      <td>7376.047238</td>\n",
       "      <td>5847.402960</td>\n",
       "      <td>5461.100326</td>\n",
       "      <td>4316.124588</td>\n",
       "      <td>7491.422748</td>\n",
       "      <td>3961.532240</td>\n",
       "      <td>3496.675613</td>\n",
       "      <td>6752.362175</td>\n",
       "      <td>7299.626100</td>\n",
       "      <td>6330.739278</td>\n",
       "      <td>3843.219943</td>\n",
       "      <td>7564.611083</td>\n",
       "      <td>4414.995561</td>\n",
       "      <td>4168.970779</td>\n",
       "    </tr>\n",
       "  </tbody>\n",
       "</table>\n",
       "</div>"
      ],
      "text/plain": [
       "   normalized-losses   wheel-base       length        width       height  \\\n",
       "1        7579.057448  4127.664023  4898.478019  4066.868124  8392.337279   \n",
       "3        7148.990331  4791.446221  5055.359831  4014.256862  7867.419571   \n",
       "5        6671.869661  5725.179143  5344.389417  4209.420018  7702.821601   \n",
       "7        7076.278964  5949.354619  5407.596946  4362.409681  7663.933333   \n",
       "9        7376.047238  5847.402960  5461.100326  4316.124588  7491.422748   \n",
       "\n",
       "   curb-weight  engine-size         bore       stroke  compression-ratio  \\\n",
       "1  5157.859842  3601.796747  8057.920723  8225.659301        6741.420713   \n",
       "3  4495.974906  3054.441896  6514.966390  7273.057903        5821.947865   \n",
       "5  4234.188078  3043.502927  6914.254048  7297.139641        6082.597131   \n",
       "7  4065.269237  3346.551409  6940.746752  7332.833386        6251.986521   \n",
       "9  3961.532240  3496.675613  6752.362175  7299.626100        6330.739278   \n",
       "\n",
       "    horsepower     peak-rpm     city-mpg  highway-mpg  \n",
       "1  3991.682326  8725.320610  5756.990928  5108.460253  \n",
       "3  3860.005144  7721.733869  4388.057423  4648.040609  \n",
       "5  3801.849871  7510.544452  4305.536968  4180.874800  \n",
       "7  3799.826781  7487.471490  4247.140019  4136.835757  \n",
       "9  3843.219943  7564.611083  4414.995561  4168.970779  "
      ]
     },
     "execution_count": 63,
     "metadata": {},
     "output_type": "execute_result"
    }
   ],
   "source": [
    "for model_feature in univariate_model_features:\n",
    "    feature_k_vals_model_predictions_quality = list()\n",
    "    for k_val in k_values:\n",
    "        k_val_specific_model_error_metric = knn_k_fold_cross_validation(model_feature,target_column,normalized_car_model_data,k_val)\n",
    "        feature_k_vals_model_predictions_quality.append(k_val_specific_model_error_metric)\n",
    "    # each feature exists as a single element list, and not as string\n",
    "    feature_performance_on_k_values[model_feature[0]] = feature_k_vals_model_predictions_quality\n",
    "\n",
    "# renaming index to reflect the different k-values used\n",
    "k_values_index_mapper = {idx:k_val for idx,k_val in zip(feature_performance_on_k_values.index,k_values)}\n",
    "\n",
    "feature_performance_on_k_values.rename(index=k_values_index_mapper,inplace=True)\n",
    "feature_performance_on_k_values"
   ]
  },
  {
   "cell_type": "markdown",
   "metadata": {},
   "source": [
    "#### Visualizing each feature's performance on all specified k-values"
   ]
  },
  {
   "cell_type": "code",
   "execution_count": 64,
   "metadata": {},
   "outputs": [
    {
     "data": {
      "image/png": "[encoded data removed]",
      "text/plain": [
       "<Figure size 432x288 with 1 Axes>"
      ]
     },
     "metadata": {
      "needs_background": "light"
     },
     "output_type": "display_data"
    },
    {
     "data": {
      "image/png": "[encoded data removed]",
      "text/plain": [
       "<Figure size 432x288 with 1 Axes>"
      ]
     },
     "metadata": {
      "needs_background": "light"
     },
     "output_type": "display_data"
    },
    {
     "data": {
      "image/png": "[encoded data removed]",
      "text/plain": [
       "<Figure size 432x288 with 1 Axes>"
      ]
     },
     "metadata": {
      "needs_background": "light"
     },
     "output_type": "display_data"
    },
    {
     "data": {
      "image/png": "[encoded data removed]",
      "text/plain": [
       "<Figure size 432x288 with 1 Axes>"
      ]
     },
     "metadata": {
      "needs_background": "light"
     },
     "output_type": "display_data"
    },
    {
     "data": {
      "image/png": "[encoded data removed]",
      "text/plain": [
       "<Figure size 432x288 with 1 Axes>"
      ]
     },
     "metadata": {
      "needs_background": "light"
     },
     "output_type": "display_data"
    },
    {
     "data": {
      "image/png": "[encoded data removed]",
      "text/plain": [
       "<Figure size 432x288 with 1 Axes>"
      ]
     },
     "metadata": {
      "needs_background": "light"
     },
     "output_type": "display_data"
    },
    {
     "data": {
      "image/png": "[encoded data removed]",
      "text/plain": [
       "<Figure size 432x288 with 1 Axes>"
      ]
     },
     "metadata": {
      "needs_background": "light"
     },
     "output_type": "display_data"
    },
    {
     "data": {
      "image/png": "[encoded data removed]",
      "text/plain": [
       "<Figure size 432x288 with 1 Axes>"
      ]
     },
     "metadata": {
      "needs_background": "light"
     },
     "output_type": "display_data"
    },
    {
     "data": {
      "image/png": "[encoded data removed]",
      "text/plain": [
       "<Figure size 432x288 with 1 Axes>"
      ]
     },
     "metadata": {
      "needs_background": "light"
     },
     "output_type": "display_data"
    },
    {
     "data": {
      "image/png": "[encoded data removed]",
      "text/plain": [
       "<Figure size 432x288 with 1 Axes>"
      ]
     },
     "metadata": {
      "needs_background": "light"
     },
     "output_type": "display_data"
    },
    {
     "data": {
      "image/png": "[encoded data removed]",
      "text/plain": [
       "<Figure size 432x288 with 1 Axes>"
      ]
     },
     "metadata": {
      "needs_background": "light"
     },
     "output_type": "display_data"
    },
    {
     "data": {
      "image/png": "[encoded data removed]",
      "text/plain": [
       "<Figure size 432x288 with 1 Axes>"
      ]
     },
     "metadata": {
      "needs_background": "light"
     },
     "output_type": "display_data"
    },
    {
     "data": {
      "image/png": "[encoded data removed]",
      "text/plain": [
       "<Figure size 432x288 with 1 Axes>"
      ]
     },
     "metadata": {
      "needs_background": "light"
     },
     "output_type": "display_data"
    },
    {
     "data": {
      "image/png": "[encoded data removed]",
      "text/plain": [
       "<Figure size 432x288 with 1 Axes>"
      ]
     },
     "metadata": {
      "needs_background": "light"
     },
     "output_type": "display_data"
    }
   ],
   "source": [
    "for feature in features:\n",
    "    feature_performance_on_k_values[feature].plot.line()\n",
    "    plt.title('{} feature prediction quality for car market prices on various k-values'.format(feature))\n",
    "    plt.xlabel('Number of nearest neighbours used i.e. {}'.format(k_values))\n",
    "    plt.ylabel('RMSE(Root Mean Squared Error) metric')\n",
    "    plt.show()"
   ]
  },
  {
   "cell_type": "markdown",
   "metadata": {},
   "source": [
    "## Multivariate Model"
   ]
  },
  {
   "cell_type": "markdown",
   "metadata": {},
   "source": [
    "### Calculating average prediction quality across the specified k-values for each feature"
   ]
  },
  {
   "cell_type": "code",
   "execution_count": 65,
   "metadata": {},
   "outputs": [
    {
     "data": {
      "text/plain": [
       "normalized-losses    7170.448729\n",
       "wheel-base           5288.209393\n",
       "length               5233.384908\n",
       "width                4193.815855\n",
       "height               7823.586906\n",
       "curb-weight          4382.964861\n",
       "engine-size          3308.593718\n",
       "bore                 7036.050018\n",
       "stroke               7485.663266\n",
       "compression-ratio    6245.738302\n",
       "horsepower           3859.316813\n",
       "peak-rpm             7801.936301\n",
       "city-mpg             4622.544180\n",
       "highway-mpg          4448.636439\n",
       "dtype: float64"
      ]
     },
     "execution_count": 65,
     "metadata": {},
     "output_type": "execute_result"
    }
   ],
   "source": [
    "avg_feature_performance = feature_performance_on_k_values.mean()\n",
    "avg_feature_performance"
   ]
  },
  {
   "cell_type": "markdown",
   "metadata": {},
   "source": [
    "### Best features to train a multi-variate knn model on using average RMSE metric"
   ]
  },
  {
   "cell_type": "code",
   "execution_count": 66,
   "metadata": {},
   "outputs": [
    {
     "data": {
      "text/plain": [
       "engine-size          3308.593718\n",
       "horsepower           3859.316813\n",
       "width                4193.815855\n",
       "curb-weight          4382.964861\n",
       "highway-mpg          4448.636439\n",
       "city-mpg             4622.544180\n",
       "length               5233.384908\n",
       "wheel-base           5288.209393\n",
       "compression-ratio    6245.738302\n",
       "bore                 7036.050018\n",
       "normalized-losses    7170.448729\n",
       "stroke               7485.663266\n",
       "peak-rpm             7801.936301\n",
       "height               7823.586906\n",
       "dtype: float64"
      ]
     },
     "execution_count": 66,
     "metadata": {},
     "output_type": "execute_result"
    }
   ],
   "source": [
    "best_avg_feature_performance = avg_feature_performance.sort_values()\n",
    "best_avg_feature_performance"
   ]
  },
  {
   "cell_type": "markdown",
   "metadata": {},
   "source": [
    "### Determining multi-variate knn model (using default k-value) prediction quality using different number of 'best' features"
   ]
  },
  {
   "cell_type": "code",
   "execution_count": 67,
   "metadata": {},
   "outputs": [
    {
     "data": {
      "text/plain": [
       "[2, 3, 4, 5, 6]"
      ]
     },
     "execution_count": 67,
     "metadata": {},
     "output_type": "execute_result"
    }
   ],
   "source": [
    "number_of_best_features"
   ]
  },
  {
   "cell_type": "markdown",
   "metadata": {},
   "source": [
    "#### Determining multi-variate knn model prediction qualilty for different number of 'best' features"
   ]
  },
  {
   "cell_type": "code",
   "execution_count": 68,
   "metadata": {},
   "outputs": [
    {
     "data": {
      "text/plain": [
       "2    2949.881728\n",
       "3    3580.737665\n",
       "4    3487.340917\n",
       "5    3410.217013\n",
       "6    3416.536073\n",
       "dtype: float64"
      ]
     },
     "execution_count": 68,
     "metadata": {},
     "output_type": "execute_result"
    }
   ],
   "source": [
    "avg_rmse_values = list()\n",
    "for num_feature in number_of_best_features:\n",
    "    features = list(best_avg_feature_performance.index[:num_feature])\n",
    "    multi_variate_model_error_metric = knn_train_test(features,target_column,multivariate_rn_car_model_data)\n",
    "    avg_rmse_values.append(multi_variate_model_error_metric)\n",
    "\n",
    "num_features_based_prediction_quality= pd.Series(avg_rmse_values,index=number_of_best_features)\n",
    "num_features_based_prediction_quality"
   ]
  },
  {
   "cell_type": "markdown",
   "metadata": {},
   "source": [
    "### Hyperparameter Tuning"
   ]
  },
  {
   "cell_type": "markdown",
   "metadata": {},
   "source": [
    "Let's now optimize the model that performed the best in the previous step."
   ]
  },
  {
   "cell_type": "markdown",
   "metadata": {},
   "source": [
    "#### Determining the best models (based on RMSE metric)"
   ]
  },
  {
   "cell_type": "code",
   "execution_count": 69,
   "metadata": {},
   "outputs": [
    {
     "data": {
      "text/plain": [
       "2    2949.881728\n",
       "5    3410.217013\n",
       "6    3416.536073\n",
       "4    3487.340917\n",
       "3    3580.737665\n",
       "dtype: float64"
      ]
     },
     "execution_count": 69,
     "metadata": {},
     "output_type": "execute_result"
    }
   ],
   "source": [
    "best_num_features_based_prediction_quality = num_features_based_prediction_quality.sort_values()\n",
    "best_num_features_based_prediction_quality"
   ]
  },
  {
   "cell_type": "code",
   "execution_count": 70,
   "metadata": {},
   "outputs": [
    {
     "data": {
      "text/plain": [
       "Int64Index([2, 5, 6], dtype='int64')"
      ]
     },
     "execution_count": 70,
     "metadata": {},
     "output_type": "execute_result"
    }
   ],
   "source": [
    "top_3_best_number_of_features = best_num_features_based_prediction_quality.index[:3]\n",
    "top_3_best_number_of_features"
   ]
  },
  {
   "cell_type": "markdown",
   "metadata": {},
   "source": [
    "The best 3 multivariate knn models (based on least values of the RMSE metric) are those that use 2,3 and 4 number of features for their modelling."
   ]
  },
  {
   "cell_type": "markdown",
   "metadata": {},
   "source": [
    "#### Varying hyperparameter value (i.e. number of nearest neighbours) to find the optimal k-value for each of the best models"
   ]
  },
  {
   "cell_type": "code",
   "execution_count": 71,
   "metadata": {},
   "outputs": [
    {
     "name": "stdout",
     "output_type": "stream",
     "text": [
      "[1, 2, 3, 4, 5, 6, 7, 8, 9, 10, 11, 12, 13, 14, 15, 16, 17, 18, 19, 20, 21, 22, 23, 24, 25]\n"
     ]
    }
   ],
   "source": [
    "hyperparameter_values = list(range(1,26))\n",
    "print(hyperparameter_values)"
   ]
  },
  {
   "cell_type": "markdown",
   "metadata": {},
   "source": [
    "##### Prediction qualities for each best feature set on all specified hyperparameter values"
   ]
  },
  {
   "cell_type": "code",
   "execution_count": 72,
   "metadata": {},
   "outputs": [
    {
     "data": {
      "text/html": [
       "<div>\n",
       "<style scoped>\n",
       "    .dataframe tbody tr th:only-of-type {\n",
       "        vertical-align: middle;\n",
       "    }\n",
       "\n",
       "    .dataframe tbody tr th {\n",
       "        vertical-align: top;\n",
       "    }\n",
       "\n",
       "    .dataframe thead th {\n",
       "        text-align: right;\n",
       "    }\n",
       "</style>\n",
       "<table border=\"1\" class=\"dataframe\">\n",
       "  <thead>\n",
       "    <tr style=\"text-align: right;\">\n",
       "      <th></th>\n",
       "      <th>2 num best features</th>\n",
       "      <th>5 num best features</th>\n",
       "      <th>6 num best features</th>\n",
       "    </tr>\n",
       "  </thead>\n",
       "  <tbody>\n",
       "    <tr>\n",
       "      <th>1</th>\n",
       "      <td>2783.620424</td>\n",
       "      <td>2824.706123</td>\n",
       "      <td>2764.413626</td>\n",
       "    </tr>\n",
       "    <tr>\n",
       "      <th>2</th>\n",
       "      <td>2657.796381</td>\n",
       "      <td>2915.673165</td>\n",
       "      <td>2814.672472</td>\n",
       "    </tr>\n",
       "    <tr>\n",
       "      <th>3</th>\n",
       "      <td>2792.586573</td>\n",
       "      <td>3012.420455</td>\n",
       "      <td>2904.741121</td>\n",
       "    </tr>\n",
       "    <tr>\n",
       "      <th>4</th>\n",
       "      <td>2891.532969</td>\n",
       "      <td>3202.887605</td>\n",
       "      <td>3121.637407</td>\n",
       "    </tr>\n",
       "    <tr>\n",
       "      <th>5</th>\n",
       "      <td>2949.881728</td>\n",
       "      <td>3410.217013</td>\n",
       "      <td>3416.536073</td>\n",
       "    </tr>\n",
       "    <tr>\n",
       "      <th>6</th>\n",
       "      <td>3096.402602</td>\n",
       "      <td>3618.450943</td>\n",
       "      <td>3570.361565</td>\n",
       "    </tr>\n",
       "    <tr>\n",
       "      <th>7</th>\n",
       "      <td>3164.681969</td>\n",
       "      <td>3622.629021</td>\n",
       "      <td>3512.537319</td>\n",
       "    </tr>\n",
       "    <tr>\n",
       "      <th>8</th>\n",
       "      <td>3413.228359</td>\n",
       "      <td>3848.635836</td>\n",
       "      <td>3807.614182</td>\n",
       "    </tr>\n",
       "    <tr>\n",
       "      <th>9</th>\n",
       "      <td>3748.671660</td>\n",
       "      <td>3977.814914</td>\n",
       "      <td>3899.587950</td>\n",
       "    </tr>\n",
       "    <tr>\n",
       "      <th>10</th>\n",
       "      <td>4080.712506</td>\n",
       "      <td>3994.813221</td>\n",
       "      <td>4032.701836</td>\n",
       "    </tr>\n",
       "    <tr>\n",
       "      <th>11</th>\n",
       "      <td>4215.637228</td>\n",
       "      <td>4159.843527</td>\n",
       "      <td>4214.808908</td>\n",
       "    </tr>\n",
       "    <tr>\n",
       "      <th>12</th>\n",
       "      <td>4275.421524</td>\n",
       "      <td>4294.338947</td>\n",
       "      <td>4346.778512</td>\n",
       "    </tr>\n",
       "    <tr>\n",
       "      <th>13</th>\n",
       "      <td>4373.901683</td>\n",
       "      <td>4380.848359</td>\n",
       "      <td>4417.204587</td>\n",
       "    </tr>\n",
       "    <tr>\n",
       "      <th>14</th>\n",
       "      <td>4424.285137</td>\n",
       "      <td>4466.368754</td>\n",
       "      <td>4431.048374</td>\n",
       "    </tr>\n",
       "    <tr>\n",
       "      <th>15</th>\n",
       "      <td>4539.505493</td>\n",
       "      <td>4522.420711</td>\n",
       "      <td>4483.318260</td>\n",
       "    </tr>\n",
       "    <tr>\n",
       "      <th>16</th>\n",
       "      <td>4667.307671</td>\n",
       "      <td>4536.427578</td>\n",
       "      <td>4468.409504</td>\n",
       "    </tr>\n",
       "    <tr>\n",
       "      <th>17</th>\n",
       "      <td>4729.605306</td>\n",
       "      <td>4587.098444</td>\n",
       "      <td>4510.440904</td>\n",
       "    </tr>\n",
       "    <tr>\n",
       "      <th>18</th>\n",
       "      <td>4790.556632</td>\n",
       "      <td>4622.107838</td>\n",
       "      <td>4534.110931</td>\n",
       "    </tr>\n",
       "    <tr>\n",
       "      <th>19</th>\n",
       "      <td>4824.386619</td>\n",
       "      <td>4612.890108</td>\n",
       "      <td>4602.000426</td>\n",
       "    </tr>\n",
       "    <tr>\n",
       "      <th>20</th>\n",
       "      <td>4840.850915</td>\n",
       "      <td>4632.693976</td>\n",
       "      <td>4619.440477</td>\n",
       "    </tr>\n",
       "    <tr>\n",
       "      <th>21</th>\n",
       "      <td>4837.429062</td>\n",
       "      <td>4712.917548</td>\n",
       "      <td>4633.770705</td>\n",
       "    </tr>\n",
       "    <tr>\n",
       "      <th>22</th>\n",
       "      <td>4831.169883</td>\n",
       "      <td>4676.301065</td>\n",
       "      <td>4676.354688</td>\n",
       "    </tr>\n",
       "    <tr>\n",
       "      <th>23</th>\n",
       "      <td>4861.679493</td>\n",
       "      <td>4691.189311</td>\n",
       "      <td>4774.327738</td>\n",
       "    </tr>\n",
       "    <tr>\n",
       "      <th>24</th>\n",
       "      <td>4903.346009</td>\n",
       "      <td>4755.990767</td>\n",
       "      <td>4772.012139</td>\n",
       "    </tr>\n",
       "    <tr>\n",
       "      <th>25</th>\n",
       "      <td>4955.892429</td>\n",
       "      <td>4804.323266</td>\n",
       "      <td>4808.275928</td>\n",
       "    </tr>\n",
       "  </tbody>\n",
       "</table>\n",
       "</div>"
      ],
      "text/plain": [
       "    2 num best features  5 num best features  6 num best features\n",
       "1           2783.620424          2824.706123          2764.413626\n",
       "2           2657.796381          2915.673165          2814.672472\n",
       "3           2792.586573          3012.420455          2904.741121\n",
       "4           2891.532969          3202.887605          3121.637407\n",
       "5           2949.881728          3410.217013          3416.536073\n",
       "6           3096.402602          3618.450943          3570.361565\n",
       "7           3164.681969          3622.629021          3512.537319\n",
       "8           3413.228359          3848.635836          3807.614182\n",
       "9           3748.671660          3977.814914          3899.587950\n",
       "10          4080.712506          3994.813221          4032.701836\n",
       "11          4215.637228          4159.843527          4214.808908\n",
       "12          4275.421524          4294.338947          4346.778512\n",
       "13          4373.901683          4380.848359          4417.204587\n",
       "14          4424.285137          4466.368754          4431.048374\n",
       "15          4539.505493          4522.420711          4483.318260\n",
       "16          4667.307671          4536.427578          4468.409504\n",
       "17          4729.605306          4587.098444          4510.440904\n",
       "18          4790.556632          4622.107838          4534.110931\n",
       "19          4824.386619          4612.890108          4602.000426\n",
       "20          4840.850915          4632.693976          4619.440477\n",
       "21          4837.429062          4712.917548          4633.770705\n",
       "22          4831.169883          4676.301065          4676.354688\n",
       "23          4861.679493          4691.189311          4774.327738\n",
       "24          4903.346009          4755.990767          4772.012139\n",
       "25          4955.892429          4804.323266          4808.275928"
      ]
     },
     "execution_count": 72,
     "metadata": {},
     "output_type": "execute_result"
    }
   ],
   "source": [
    "# computing average RMSE value for each k-value specified on each of the 3 best performing feature sets \n",
    "h_vals_prediction_qualities = pd.DataFrame()\n",
    "for num_feature in top_3_best_number_of_features:\n",
    "    avg_rmse_values = list()\n",
    "    features = list(best_avg_feature_performance.index[:num_feature])\n",
    "    for h_val in hyperparameter_values:\n",
    "        h_val_error_metric = knn_train_test(features,target_column,multivariate_rn_car_model_data,h_val)\n",
    "        avg_rmse_values.append(h_val_error_metric)\n",
    "    h_vals_prediction_qualities['{} num best features'.format(num_feature)] = avg_rmse_values\n",
    "\n",
    "h_vals_prediction_qualities.rename(index = {idx:idx+1 for idx in h_vals_prediction_qualities.index},inplace=True)\n",
    "h_vals_prediction_qualities"
   ]
  },
  {
   "cell_type": "markdown",
   "metadata": {},
   "source": [
    "##### Visualizing the aforementioned prediction qualities"
   ]
  },
  {
   "cell_type": "code",
   "execution_count": 73,
   "metadata": {},
   "outputs": [
    {
     "data": {
      "text/plain": [
       "Text(0, 0.5, 'RMSE values')"
      ]
     },
     "execution_count": 73,
     "metadata": {},
     "output_type": "execute_result"
    },
    {
     "data": {
      "image/png": "[encoded data removed]",
      "text/plain": [
       "<Figure size 432x288 with 1 Axes>"
      ]
     },
     "metadata": {
      "needs_background": "light"
     },
     "output_type": "display_data"
    }
   ],
   "source": [
    "for col in h_vals_prediction_qualities.columns:\n",
    "    plt.plot(h_vals_prediction_qualities[col],label=\"{}\".format(col))\n",
    "plt.xlabel('k-values')\n",
    "plt.ylabel('RMSE values')"
   ]
  },
  {
   "cell_type": "markdown",
   "metadata": {},
   "source": [
    "##### Determining optimal k-value for each best feature set"
   ]
  },
  {
   "cell_type": "code",
   "execution_count": 74,
   "metadata": {},
   "outputs": [
    {
     "data": {
      "text/plain": [
       "{'2 num best features': 2, '5 num best features': 1, '6 num best features': 1}"
      ]
     },
     "execution_count": 74,
     "metadata": {},
     "output_type": "execute_result"
    }
   ],
   "source": [
    "feature_set_optimal_k_value = dict()\n",
    "for col in h_vals_prediction_qualities.columns:\n",
    "    optimal_k_val = h_vals_prediction_qualities[col].sort_values().index[0]\n",
    "    feature_set_optimal_k_value[col] = optimal_k_val\n",
    "\n",
    "feature_set_optimal_k_value"
   ]
  },
  {
   "cell_type": "markdown",
   "metadata": {},
   "source": [
    "Observations:-\n",
    "1. The optimal k-values for multivariate models trained on each of the 3 best performing feature sets are not starkly different.\n",
    "2. For multivariate knn models trained using the best 5 or 6 features, k-value used is 1. The high variance of a complex knn model (model complexity is measured in terms of number of features used to construct the model) like the ones we observe for those models constructed using the best 5 or 6 length feature sets, can be attributed to the low value of number of nearest neighbours.\n",
    "3. The multivariate knn model trained using the 2 best features has a higher k-value than those for the 2 aforementioned cases. The lower model complexity associated with using this feature set is due to the fact that the greater number of nearest neighbours makes variability in predicted values less, and so the variance is less. This accounts for the lower average RMSE metric (lower error metric usually implies a better prediction quality, wherein quality is measured in terms of inaccuracy of predicted values from actual values.)"
   ]
  }
 ],
 "metadata": {
  "kernelspec": {
   "display_name": "Python 3",
   "language": "python",
   "name": "python3"
  },
  "language_info": {
   "codemirror_mode": {
    "name": "ipython",
    "version": 3
   },
   "file_extension": ".py",
   "mimetype": "text/x-python",
   "name": "python",
   "nbconvert_exporter": "python",
   "pygments_lexer": "ipython3",
   "version": "3.8.5"
  },
  "latex_envs": {
   "LaTeX_envs_menu_present": true,
   "autoclose": false,
   "autocomplete": true,
   "bibliofile": "biblio.bib",
   "cite_by": "apalike",
   "current_citInitial": 1,
   "eqLabelWithNumbers": true,
   "eqNumInitial": 1,
   "hotkeys": {
    "equation": "Ctrl-E",
    "itemize": "Ctrl-I"
   },
   "labels_anchors": false,
   "latex_user_defs": false,
   "report_style_numbering": false,
   "user_envs_cfg": false
  },
  "toc": {
   "base_numbering": 1,
   "nav_menu": {},
   "number_sections": true,
   "sideBar": true,
   "skip_h1_title": false,
   "title_cell": "Table of Contents",
   "title_sidebar": "Contents",
   "toc_cell": false,
   "toc_position": {},
   "toc_section_display": true,
   "toc_window_display": false
  },
  "varInspector": {
   "cols": {
    "lenName": 16,
    "lenType": 16,
    "lenVar": 40
   },
   "kernels_config": {
    "python": {
     "delete_cmd_postfix": "",
     "delete_cmd_prefix": "del ",
     "library": "var_list.py",
     "varRefreshCmd": "print(var_dic_list())"
    },
    "r": {
     "delete_cmd_postfix": ") ",
     "delete_cmd_prefix": "rm(",
     "library": "var_list.r",
     "varRefreshCmd": "cat(var_dic_list()) "
    }
   },
   "types_to_exclude": [
    "module",
    "function",
    "builtin_function_or_method",
    "instance",
    "_Feature"
   ],
   "window_display": false
  }
 },
 "nbformat": 4,
 "nbformat_minor": 4
}
